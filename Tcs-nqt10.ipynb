{
 "cells": [
  {
   "cell_type": "markdown",
   "metadata": {},
   "source": [
    "GIven an array of size n and another number n2 also given size of subset the task is to find if the number n2 is present in every non overlapping subset of size s in given arrray. if it is present in every subset print 1 otherwise print 0 "
   ]
  },
  {
   "cell_type": "markdown",
   "metadata": {},
   "source": [
    "### Input\n",
    "    12\n",
    "    20 1 6 8 13 20 1 7 20 13 16 20\n",
    "    20\n",
    "    3\n",
    "### Output:\n",
    "    1"
   ]
  },
  {
   "cell_type": "markdown",
   "metadata": {},
   "source": [
    "### Input\n",
    "    10\n",
    "    8 5 3 6 9 2 3 6 9 8\n",
    "    5\n",
    "    3\n",
    "### Output:\n",
    "    0"
   ]
  },
  {
   "cell_type": "code",
   "execution_count": 23,
   "metadata": {},
   "outputs": [
    {
     "name": "stdout",
     "output_type": "stream",
     "text": [
      "[[20, 1, 6], [8, 13, 20], [1, 7, 20], [13, 16, 20]]\n",
      "0\n"
     ]
    }
   ],
   "source": [
    "n = int(input(\"Enter size of array\"))\n",
    "l = list(map(int,input().split()))\n",
    "s = int(input(\"Enter number to be searched in list\"))\n",
    "sub = int(input(\"Enter subset\"))\n",
    "\n",
    "subsets = []\n",
    "    \n",
    "for i in range(0,n,sub):\n",
    "    subsets.append([l[i], l[i+1], l[i+2]])\n",
    "# print(subsets)\n",
    "ll = len(subsets)\n",
    "c=0\n",
    "for i in subsets:\n",
    "    # print(i)\n",
    "    if s in i:\n",
    "        c +=1\n",
    "if c == ll:\n",
    "    print(\"1\")\n",
    "else:\n",
    "    print(\"0\")\n",
    "        "
   ]
  }
 ],
 "metadata": {
  "kernelspec": {
   "display_name": "base",
   "language": "python",
   "name": "python3"
  },
  "language_info": {
   "codemirror_mode": {
    "name": "ipython",
    "version": 3
   },
   "file_extension": ".py",
   "mimetype": "text/x-python",
   "name": "python",
   "nbconvert_exporter": "python",
   "pygments_lexer": "ipython3",
   "version": "3.9.12"
  },
  "orig_nbformat": 4
 },
 "nbformat": 4,
 "nbformat_minor": 2
}
