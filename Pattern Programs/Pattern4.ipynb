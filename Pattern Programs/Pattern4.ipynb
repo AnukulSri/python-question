{
 "cells": [
  {
   "cell_type": "markdown",
   "metadata": {},
   "source": [
    "# Wap to print the pattern\n",
    "\n",
    "    P\n",
    "    P R\n",
    "    P R O\n",
    "    P R O G\n",
    "    P R O G R\n",
    "    P R O G R A\n",
    "    P R O G R A M \n"
   ]
  },
  {
   "cell_type": "code",
   "execution_count": 3,
   "metadata": {},
   "outputs": [
    {
     "name": "stdout",
     "output_type": "stream",
     "text": [
      "p \n",
      "p r \n",
      "p r o \n",
      "p r o g \n",
      "p r o g r \n",
      "p r o g r a \n",
      "p r o g r a m \n"
     ]
    }
   ],
   "source": [
    "string = input(\"Enter a string\")\n",
    "for i in range(0,len(string)):\n",
    "    for j in range(0,i+1):\n",
    "        print(string[j],end=' ')\n",
    "    print()    "
   ]
  }
 ],
 "metadata": {
  "kernelspec": {
   "display_name": "base",
   "language": "python",
   "name": "python3"
  },
  "language_info": {
   "codemirror_mode": {
    "name": "ipython",
    "version": 3
   },
   "file_extension": ".py",
   "mimetype": "text/x-python",
   "name": "python",
   "nbconvert_exporter": "python",
   "pygments_lexer": "ipython3",
   "version": "3.9.12"
  },
  "orig_nbformat": 4
 },
 "nbformat": 4,
 "nbformat_minor": 2
}
