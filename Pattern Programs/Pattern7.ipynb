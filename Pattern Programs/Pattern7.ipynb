{
 "cells": [
  {
   "cell_type": "markdown",
   "metadata": {},
   "source": [
    "# Wap to print the pattern\n",
    "\n",
    "    1\n",
    "    2 3 \n",
    "    5 7 11 \n",
    "    13 17 19 23 \n",
    "    29 31 37 41 43"
   ]
  },
  {
   "cell_type": "code",
   "execution_count": 2,
   "metadata": {},
   "outputs": [
    {
     "name": "stdout",
     "output_type": "stream",
     "text": [
      "1 \n",
      "2 3 \n",
      "\n"
     ]
    }
   ],
   "source": [
    "# n = int(input(\"Enter a number\"))\n",
    "r = int(input(\"Enter range\"))\n",
    "arr=[1,]\n",
    "for k in range(1,r+1):\n",
    "    c=0\n",
    "    for l in range(2,k+2):\n",
    "        if k % l == 0:\n",
    "            c+=1\n",
    "    if c == 1:\n",
    "        arr.append(k)\n",
    "\n",
    "# print(arr)  \n",
    "f=0\n",
    "try :  \n",
    " for i in range(1,6):\n",
    "    for j in range(1,i+1):\n",
    "        print(arr[f],end=' ')\n",
    "        f +=1\n",
    "    print()\n",
    "except:\n",
    "   print()\n"
   ]
  }
 ],
 "metadata": {
  "kernelspec": {
   "display_name": "base",
   "language": "python",
   "name": "python3"
  },
  "language_info": {
   "codemirror_mode": {
    "name": "ipython",
    "version": 3
   },
   "file_extension": ".py",
   "mimetype": "text/x-python",
   "name": "python",
   "nbconvert_exporter": "python",
   "pygments_lexer": "ipython3",
   "version": "3.9.12"
  },
  "orig_nbformat": 4
 },
 "nbformat": 4,
 "nbformat_minor": 2
}
