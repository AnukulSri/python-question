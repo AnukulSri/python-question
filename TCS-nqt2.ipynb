{
 "cells": [
  {
   "cell_type": "markdown",
   "metadata": {},
   "source": [
    "- A family is about to break their piggy bank to use the money for different purposes. The piggy bank here\n",
    "represents an array (arr[]) consisting of N coins. The family has to split the coins of piggy bank into smaller\n",
    "stack (sub-array) of coins such that the sum of the difference between the maximum value and the minimum\n",
    "value of the coins for all the stacks (sub-arrays) is maximum.\n",
    "- Note: Each value of the array can be used only once that is only in one subarray."
   ]
  },
  {
   "cell_type": "markdown",
   "metadata": {},
   "source": [
    "## Example 1:\n",
    "### Input:\n",
    "- 5 → Value of N\n",
    "- {8,1,7,9,2} → arr[] elements from arr[0] to arr [N-1],\n",
    "- Where each element is separated by new line.\n",
    "### Output:\n",
    "14"
   ]
  },
  {
   "cell_type": "markdown",
   "metadata": {},
   "source": [
    "## Explanation\n",
    "\n",
    "- Let us break the array elements into following subarrays:\n",
    "1. (8,1) → Max:8 Min:1\n",
    "2. (7,9,2) → Max:9 Min:2\n",
    "So, the difference between the maximum and minimum elements in each subarrays is\n",
    "1. 8-1=7\n",
    "2. 9-2=7\n",
    "* Now, the sum of the differences of subarray is:\n",
    "* 7+7=14\n",
    "### Hence, output is 14"
   ]
  },
  {
   "cell_type": "code",
   "execution_count": 2,
   "metadata": {},
   "outputs": [
    {
     "name": "stdout",
     "output_type": "stream",
     "text": [
      "3\n"
     ]
    }
   ],
   "source": [
    "n = int(input(\"Enter a number\"))\n",
    "l=[]\n",
    "l2=[]\n",
    "for i in range(n):\n",
    "    l.append(int(input()))\n",
    "\n",
    "mid_index = n// 2\n",
    "# print(mid_index)\n",
    "subarray1 = l[:mid_index]\n",
    "subarray2 = l[mid_index:]\n",
    "\n",
    "a = max(subarray2)\n",
    "a1 = min(subarray2)\n",
    "\n",
    "b= max(subarray1)\n",
    "b1 = min(subarray1)\n",
    "\n",
    "c = a-a1\n",
    "d= b-b1\n",
    "\n",
    "print(c+d)"
   ]
  },
  {
   "cell_type": "code",
   "execution_count": 3,
   "metadata": {},
   "outputs": [
    {
     "name": "stdout",
     "output_type": "stream",
     "text": [
      "5\n"
     ]
    }
   ],
   "source": [
    "n = int(input(\"Enter a number\"))\n",
    "l=[]\n",
    "sum=0\n",
    "for i in range(n):\n",
    "    l.append(int(input()))\n",
    "le = len(l)\n",
    "for i in range(le):\n",
    "    for j in range(i+1,le):\n",
    "        if l[i]<l[j]:\n",
    "            temp=l[i]\n",
    "            l[i]=l[j]\n",
    "            l[j]=temp\n",
    "\n",
    "d= n//2\n",
    "\n",
    "for i in range(0,d):\n",
    "    sum = sum+(l[i]-l[n-1-1])\n",
    "\n",
    "print(sum)"
   ]
  }
 ],
 "metadata": {
  "kernelspec": {
   "display_name": "base",
   "language": "python",
   "name": "python3"
  },
  "language_info": {
   "codemirror_mode": {
    "name": "ipython",
    "version": 3
   },
   "file_extension": ".py",
   "mimetype": "text/x-python",
   "name": "python",
   "nbconvert_exporter": "python",
   "pygments_lexer": "ipython3",
   "version": "3.9.12"
  },
  "orig_nbformat": 4
 },
 "nbformat": 4,
 "nbformat_minor": 2
}
