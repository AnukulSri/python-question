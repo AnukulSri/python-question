{
 "cells": [
  {
   "cell_type": "markdown",
   "metadata": {},
   "source": [
    "* Given a non-negative integer array Arr having size N. Each element of the array will carry a different\n",
    "value. This means no two elements can have the same values.The candidate has to do this with minimal\n",
    "changes in the original value of the elements, making every element as least as much value as it originally\n",
    "had. \n",
    "\n",
    "#### Find the minimum sum of all elements that can be set the array for:\n",
    "\n",
    "\n",
    "### Example 1:\n",
    " #### Input\n",
    "    - 3 -> Value of N, represents size of Arr\n",
    "    - 2 -> Value of Arr[0]\n",
    "    - 2-> Value of Arr[1]\n",
    "    - 4-> Value of Arr[2]\n",
    " #### Output\n",
    "    - 9\n",
    "\n",
    "\n",
    "### Explanation:\n",
    "As two elements have the same value, max value for the one of them needs to be incremented to 3.\n",
    "He can set the array with 2+3+4=9\n"
   ]
  },
  {
   "cell_type": "markdown",
   "metadata": {},
   "source": [
    "### Example 2:\n",
    "    Input\n",
    "        2 -> Value of N, represents size of Arr\n",
    "        3 -> Value of Arr[0]\n",
    "        4-> Value of Arr[1]\n",
    "        5-> Value of Arr[2]\n",
    "    Output\n",
    "     Wrong Input\n",
    "### Explanation:\n",
    "Here N=2, so we need to provide value of only two elements but we are providing value of three elements\n",
    "so result is “Wrong Input”"
   ]
  },
  {
   "cell_type": "code",
   "execution_count": null,
   "metadata": {},
   "outputs": [],
   "source": []
  }
 ],
 "metadata": {
  "kernelspec": {
   "display_name": "base",
   "language": "python",
   "name": "python3"
  },
  "language_info": {
   "codemirror_mode": {
    "name": "ipython",
    "version": 3
   },
   "file_extension": ".py",
   "mimetype": "text/x-python",
   "name": "python",
   "nbconvert_exporter": "python",
   "pygments_lexer": "ipython3",
   "version": "3.9.12"
  },
  "orig_nbformat": 4
 },
 "nbformat": 4,
 "nbformat_minor": 2
}
