{
 "cells": [
  {
   "cell_type": "markdown",
   "metadata": {},
   "source": [
    "A party has been organised on a cruise. The party is organised for a limited time(T). The number of\n",
    "guests entering (E[i]) and leaving (L[i]) the party at every hour is represented as elements of the array. The\n",
    "task is to find the maximum number of guests present on the cruise at any given instance within T hours."
   ]
  },
  {
   "cell_type": "markdown",
   "metadata": {},
   "source": [
    "## Example 1:\n",
    "### Input:\n",
    "     5 ---> Value of T\n",
    "     [7,0,5,1,3] ---> E[], element of E[0] to E[N-1], where input each element is separated by new line\n",
    "     [1,2,1,3,4] -----> L[],element of L[0] to L[N-1], where input each element is separated by new line\n",
    "### Output:\n",
    "    8 -----> Maximum number of guests on cruise at an instance"
   ]
  },
  {
   "cell_type": "markdown",
   "metadata": {},
   "source": [
    "## Explanation:\n",
    "    1\n",
    "    st hour\n",
    "    Entry: 7, Exit: 1\n",
    "    No. of guests on the ship: 6\n",
    "    2\n",
    "    nd hour:\n",
    "    1\n",
    "    st hour\n",
    "    Entry: 0, Exit: 2\n",
    "    No. of guests on the ship: 6 -2 = 4\n",
    "    Hour 3:\n",
    "    Entry: 5, Exit: 1\n",
    "    No. of guests on the ship: 4 + 5 -1 = 8\n",
    "    Hour 4:\n",
    "    Entry: 1, Exit: 3\n",
    "    No. of guests on the ship: 8 + 1 - 3 = 6\n",
    "    Hour 5:\n",
    "    Entry: 3, Exit: 4\n",
    "    No. of guests on the ship: 6 + 3 - 4 = 5\n",
    "    Hence, Maximum Number of guests within 5 hours is 8.\n"
   ]
  },
  {
   "cell_type": "code",
   "execution_count": 7,
   "metadata": {},
   "outputs": [
    {
     "name": "stdout",
     "output_type": "stream",
     "text": [
      "-3\n",
      "[-4, -5, -7, -3]\n"
     ]
    }
   ],
   "source": [
    "n = int(input(\"Enter a number\"))\n",
    "E=[]\n",
    "L=[]\n",
    "p=[]\n",
    "for i in range(n):\n",
    "    E.append(int(input(\"Enter number\")))\n",
    "for i in range(n):\n",
    "    L.append(int(input(\"Enter a number\")))\n",
    "# print(total_guest)\n",
    "s = 0\n",
    "for j in range(n):\n",
    "    total_guest = E[j]-L[j]\n",
    "    s= s+total_guest\n",
    "    p.append(s)\n",
    "print(max(p))\n",
    "print(p)\n",
    "\n"
   ]
  }
 ],
 "metadata": {
  "kernelspec": {
   "display_name": "base",
   "language": "python",
   "name": "python3"
  },
  "language_info": {
   "codemirror_mode": {
    "name": "ipython",
    "version": 3
   },
   "file_extension": ".py",
   "mimetype": "text/x-python",
   "name": "python",
   "nbconvert_exporter": "python",
   "pygments_lexer": "ipython3",
   "version": "3.9.12"
  },
  "orig_nbformat": 4
 },
 "nbformat": 4,
 "nbformat_minor": 2
}
