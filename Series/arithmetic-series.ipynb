{
 "cells": [
  {
   "cell_type": "markdown",
   "metadata": {},
   "source": [
    "Program for sum of arithmetic series\n",
    "\n",
    "A series with the same common difference is known as arithmetic series. The first term of series is a and the common difference is d. The series looks like a, a + d, a + 2d, a + 3d, . . . Task is to find the sum of the series. "
   ]
  },
  {
   "cell_type": "markdown",
   "metadata": {},
   "source": [
    "Input : \n",
    "        a = 1\n",
    "        d = 2\n",
    "        n = 4\n",
    "        \n",
    "Output : 16\n",
    "\n",
    "Explanation : 1 + 3 + 5 + 7 = 16"
   ]
  },
  {
   "cell_type": "code",
   "execution_count": 6,
   "metadata": {},
   "outputs": [
    {
     "name": "stdout",
     "output_type": "stream",
     "text": [
      "335.0\n"
     ]
    }
   ],
   "source": [
    "a = float(input(\"Enter first term\"))\n",
    "d = float(input(\"Common difference\"))\n",
    "n = int(input(\"Enter a number to which you want to find answer\"))\n",
    "p=0\n",
    "for i in range(n):\n",
    "    c = a + (i*d)\n",
    "    p += c\n",
    "print(p)"
   ]
  }
 ],
 "metadata": {
  "kernelspec": {
   "display_name": "base",
   "language": "python",
   "name": "python3"
  },
  "language_info": {
   "codemirror_mode": {
    "name": "ipython",
    "version": 3
   },
   "file_extension": ".py",
   "mimetype": "text/x-python",
   "name": "python",
   "nbconvert_exporter": "python",
   "pygments_lexer": "ipython3",
   "version": "3.9.12"
  },
  "orig_nbformat": 4
 },
 "nbformat": 4,
 "nbformat_minor": 2
}
