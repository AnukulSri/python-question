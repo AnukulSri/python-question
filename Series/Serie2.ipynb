{
 "cells": [
  {
   "cell_type": "markdown",
   "metadata": {},
   "source": [
    "Write a program to find the Nth term in the series.\n",
    "\n",
    "For example , if\n",
    "N=16, the 16th term in the series is 2187, so only value 2187 should be printed.\n",
    "\n",
    "You can assume that N will not exceed 30."
   ]
  },
  {
   "cell_type": "markdown",
   "metadata": {},
   "source": [
    "Consider the following series: 1, 1, 2, 3, 4, 9, 8, 27, 16, 81, 32, 243, 64, 729,\n",
    "128, 2187 …"
   ]
  },
  {
   "cell_type": "code",
   "execution_count": 1,
   "metadata": {},
   "outputs": [
    {
     "name": "stdout",
     "output_type": "stream",
     "text": [
      "The 14th term in a series is: 729\n"
     ]
    }
   ],
   "source": [
    "a=2\n",
    "b=3\n",
    "l=[1,1,]\n",
    "r=1\n",
    "r2 =1\n",
    "for i in range(2,30):\n",
    "    if i%2==0:\n",
    "        r=r*2\n",
    "        l.append(r)\n",
    "    else:\n",
    "        r2 = r2*3\n",
    "        l.append(r2)\n",
    "# print(l)\n",
    "\n",
    "n=int(input(\"Enter the term to find in series\"))\n",
    "if n>30:\n",
    "    print(\"Term should be less than 30\")\n",
    "else:\n",
    "    print(f'The {n}th term in a series is: {l[n-1]}')\n",
    "        \n",
    "\n",
    "\n"
   ]
  }
 ],
 "metadata": {
  "kernelspec": {
   "display_name": "base",
   "language": "python",
   "name": "python3"
  },
  "language_info": {
   "codemirror_mode": {
    "name": "ipython",
    "version": 3
   },
   "file_extension": ".py",
   "mimetype": "text/x-python",
   "name": "python",
   "nbconvert_exporter": "python",
   "pygments_lexer": "ipython3",
   "version": "3.9.12"
  },
  "orig_nbformat": 4
 },
 "nbformat": 4,
 "nbformat_minor": 2
}
