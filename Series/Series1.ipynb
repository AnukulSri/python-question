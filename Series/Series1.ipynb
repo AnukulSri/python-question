{
 "cells": [
  {
   "cell_type": "markdown",
   "metadata": {},
   "source": [
    "Find the 15th term of the series?\n",
    "\n",
    "0,0,7,6,14,12,21,18,28"
   ]
  },
  {
   "cell_type": "markdown",
   "metadata": {},
   "source": [
    "### Explanation :\n",
    "   - In this series the odd term is increment of 7 {0, 7, 14, 21, 28, 35 – – – – – – }\n",
    "   - And even term is a increment of 6 {0, 6, 12, 18, 24, 30 – – – – – – }"
   ]
  },
  {
   "cell_type": "code",
   "execution_count": 5,
   "metadata": {},
   "outputs": [
    {
     "name": "stdout",
     "output_type": "stream",
     "text": [
      "0  0  7  6  14  12  \n",
      "15th term of series is:  12\n"
     ]
    }
   ],
   "source": [
    "o = 0\n",
    "e = 0\n",
    "n = int(input(\"Enter term to find in series\"))\n",
    "for i in range(1,n+1):\n",
    "    if i%2==0:\n",
    "        r = e*6\n",
    "        print(r,' ',end='')\n",
    "        e +=1\n",
    "    else:\n",
    "        r = o*7\n",
    "        print(r,' ',end='')\n",
    "        o +=1\n",
    "print()\n",
    "print(\"15th term of series is: \",r)\n",
    "\n"
   ]
  }
 ],
 "metadata": {
  "kernelspec": {
   "display_name": "base",
   "language": "python",
   "name": "python3"
  },
  "language_info": {
   "codemirror_mode": {
    "name": "ipython",
    "version": 3
   },
   "file_extension": ".py",
   "mimetype": "text/x-python",
   "name": "python",
   "nbconvert_exporter": "python",
   "pygments_lexer": "ipython3",
   "version": "3.9.12"
  },
  "orig_nbformat": 4
 },
 "nbformat": 4,
 "nbformat_minor": 2
}
