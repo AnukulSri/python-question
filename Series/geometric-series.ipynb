{
 "cells": [
  {
   "cell_type": "markdown",
   "metadata": {},
   "source": [
    "Program for sum of geometric series\n",
    "\n",
    "A Geometric series is a series with a constant ratio between successive terms. The first term of the series is denoted by a and common ratio is denoted by r. The series looks like this : a, ar, ar^2, ar^3, ar^4, . . .. "
   ]
  },
  {
   "cell_type": "markdown",
   "metadata": {},
   "source": [
    "Input : \n",
    "\n",
    "        a = 1\n",
    "        r = 0.5\n",
    "        n = 10\n",
    "\n",
    "Output : 1.99805\n",
    "\n",
    "Input : \n",
    "\n",
    "        a = 2\n",
    "        r = 2\n",
    "        n = 15\n",
    "        \n",
    "Output : 65534"
   ]
  },
  {
   "cell_type": "code",
   "execution_count": 5,
   "metadata": {},
   "outputs": [
    {
     "name": "stdout",
     "output_type": "stream",
     "text": [
      "65534.0\n"
     ]
    }
   ],
   "source": [
    "a = int(input(\"Enter first term\"))\n",
    "r = float(input(\"Enter common ratio\"))\n",
    "n = int(input(\"Enter last term\"))\n",
    "p = a + (a*r)\n",
    "for i in range(2,n):\n",
    "    t = a * (r**i)\n",
    "    p = p+t\n",
    "\n",
    "print(p)\n"
   ]
  }
 ],
 "metadata": {
  "kernelspec": {
   "display_name": "base",
   "language": "python",
   "name": "python3"
  },
  "language_info": {
   "codemirror_mode": {
    "name": "ipython",
    "version": 3
   },
   "file_extension": ".py",
   "mimetype": "text/x-python",
   "name": "python",
   "nbconvert_exporter": "python",
   "pygments_lexer": "ipython3",
   "version": "3.9.12"
  },
  "orig_nbformat": 4
 },
 "nbformat": 4,
 "nbformat_minor": 2
}
