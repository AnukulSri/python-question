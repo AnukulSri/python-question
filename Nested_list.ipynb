{
 "cells": [
  {
   "cell_type": "markdown",
   "metadata": {},
   "source": [
    "### Given the names and grades for each student in a class of N students, store them in a nested list and print the name(s) of any student(s) having the second lowest grade.\n",
    "    5\n",
    "    Harry\n",
    "    37.21\n",
    "    Berry\n",
    "    37.21\n",
    "    Tina\n",
    "    37.2\n",
    "    Akriti\n",
    "    41\n",
    "    Harsh\n",
    "    39"
   ]
  },
  {
   "cell_type": "code",
   "execution_count": 1,
   "metadata": {},
   "outputs": [
    {
     "name": "stdout",
     "output_type": "stream",
     "text": [
      "['Harry', 'Berry', 'Tina', 'Akriti', 'Harsh']\n",
      "[37.21, 37.21, 37.2, 41.0, 39.0]\n"
     ]
    }
   ],
   "source": [
    "n = int(input(\"Enter a number\"))\n",
    "l=[]\n",
    "l1=[]\n",
    "for i in range(n):\n",
    "    name = input()\n",
    "    num = float(input())\n",
    "    l.append(name)\n",
    "    l1.append(num)\n",
    "print(l)\n",
    "print(l1)\n"
   ]
  },
  {
   "cell_type": "code",
   "execution_count": 2,
   "metadata": {},
   "outputs": [],
   "source": [
    "min=0\n",
    "l1.sort()\n",
    "for i in range(n):\n",
    "    if l1[i]>0:\n",
    "        min=l1[i]"
   ]
  }
 ],
 "metadata": {
  "kernelspec": {
   "display_name": "base",
   "language": "python",
   "name": "python3"
  },
  "language_info": {
   "codemirror_mode": {
    "name": "ipython",
    "version": 3
   },
   "file_extension": ".py",
   "mimetype": "text/x-python",
   "name": "python",
   "nbconvert_exporter": "python",
   "pygments_lexer": "ipython3",
   "version": "3.9.12"
  },
  "orig_nbformat": 4
 },
 "nbformat": 4,
 "nbformat_minor": 2
}
