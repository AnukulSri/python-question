{
 "cells": [
  {
   "cell_type": "markdown",
   "metadata": {},
   "source": [
    "Program to check if an array is sorted or not \n",
    "\n",
    "- Input : 20 20 45 89 89 90\n",
    "- Output : Yes\n",
    "\n",
    "- Input : 20 20 78 98 99 97\n",
    "- Output : No"
   ]
  },
  {
   "cell_type": "code",
   "execution_count": 10,
   "metadata": {},
   "outputs": [
    {
     "name": "stdout",
     "output_type": "stream",
     "text": [
      "Array is not sorted\n"
     ]
    }
   ],
   "source": [
    "n=int(input(\"Enter number of element\"))\n",
    "l=[]\n",
    "for i in range(n):\n",
    "    l.append(int(input()))\n",
    "copy_of_list = l.copy()\n",
    "l.sort()\n",
    "# print(copy_of_list)\n",
    "# print(l)\n",
    "if l == copy_of_list:\n",
    "    print(\"array is sorted\")\n",
    "else:\n",
    "    print('Array is not sorted')"
   ]
  },
  {
   "cell_type": "code",
   "execution_count": 11,
   "metadata": {},
   "outputs": [
    {
     "name": "stdout",
     "output_type": "stream",
     "text": [
      "No\n"
     ]
    }
   ],
   "source": [
    "# Recursive approach to check if an\n",
    "# Array is sorted or not\n",
    "\n",
    "def arraySortedOrNot(arr):\n",
    "\n",
    "\t# Calculating length\n",
    "\tn = len(arr)\n",
    "\n",
    "\t# Array has one or no element or the\n",
    "\t# rest are already checked and approved.\n",
    "\tif n == 1 or n == 0:\n",
    "\t\treturn True\n",
    "\n",
    "\t# Recursion applied till last element\n",
    "\treturn arr[0] <= arr[1] and arraySortedOrNot(arr[1:])\n",
    "\n",
    "\n",
    "n=int(input(\"Enter number of element\"))\n",
    "l=[]\n",
    "for i in range(n):\n",
    "    l.append(int(input()))\n",
    "# Displaying result\n",
    "if arraySortedOrNot(l):\n",
    "\tprint(\"Yes\")\n",
    "else:\n",
    "\tprint(\"No\")\n"
   ]
  }
 ],
 "metadata": {
  "kernelspec": {
   "display_name": "base",
   "language": "python",
   "name": "python3"
  },
  "language_info": {
   "codemirror_mode": {
    "name": "ipython",
    "version": 3
   },
   "file_extension": ".py",
   "mimetype": "text/x-python",
   "name": "python",
   "nbconvert_exporter": "python",
   "pygments_lexer": "ipython3",
   "version": "3.9.12"
  },
  "orig_nbformat": 4
 },
 "nbformat": 4,
 "nbformat_minor": 2
}
