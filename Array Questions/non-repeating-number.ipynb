{
 "cells": [
  {
   "cell_type": "markdown",
   "metadata": {},
   "source": [
    "- Find the first non-repeating element in a given array arr of N integers.\n",
    "### Note: \n",
    "  - Array consists of only positive and negative integers and not zero\n",
    "\n",
    "\n",
    "### Example\n",
    "    - Input : arr[] = {-1, 2, -1, 3, 2}\n",
    "    - Output : 3\n",
    "### Explanation:\n",
    "-1 and 2 are repeating whereas 3 is \n",
    "the only number occuring once.\n",
    "Hence, the output is 3. "
   ]
  },
  {
   "cell_type": "code",
   "execution_count": 17,
   "metadata": {},
   "outputs": [
    {
     "name": "stdout",
     "output_type": "stream",
     "text": [
      "First non-repeating element: 0\n"
     ]
    }
   ],
   "source": [
    "def find_first_non_repeating_element(arr):\n",
    "    # Create a dictionary to store the count of each element\n",
    "    element_count = {}\n",
    "\n",
    "    # Count occurrences of each element in the array\n",
    "    for num in arr:\n",
    "        element_count[num] = element_count.get(num, 0) + 1\n",
    "        # print(element_count)\n",
    "\n",
    "    # Iterate through the array to find the first non-repeating element\n",
    "    for num in arr:\n",
    "        if element_count[num] == 1:\n",
    "            return num\n",
    "\n",
    "    # If no non-repeating element is found, return None or any other appropriate value\n",
    "    return 0\n",
    "\n",
    "# Example usage:\n",
    "arr = list(map(int,input().split()))\n",
    "result = find_first_non_repeating_element(arr)\n",
    "print(\"First non-repeating element:\", result)\n"
   ]
  },
  {
   "cell_type": "code",
   "execution_count": 1,
   "metadata": {},
   "outputs": [
    {
     "data": {
      "text/plain": [
       "5"
      ]
     },
     "execution_count": 1,
     "metadata": {},
     "output_type": "execute_result"
    }
   ],
   "source": []
  }
 ],
 "metadata": {
  "kernelspec": {
   "display_name": "base",
   "language": "python",
   "name": "python3"
  },
  "language_info": {
   "codemirror_mode": {
    "name": "ipython",
    "version": 3
   },
   "file_extension": ".py",
   "mimetype": "text/x-python",
   "name": "python",
   "nbconvert_exporter": "python",
   "pygments_lexer": "ipython3",
   "version": "3.9.12"
  },
  "orig_nbformat": 4
 },
 "nbformat": 4,
 "nbformat_minor": 2
}
