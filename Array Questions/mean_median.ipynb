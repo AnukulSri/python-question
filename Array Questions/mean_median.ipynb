{
 "cells": [
  {
   "cell_type": "markdown",
   "metadata": {},
   "source": [
    "# Program for Mean and median of an unsorted array"
   ]
  },
  {
   "cell_type": "markdown",
   "metadata": {},
   "source": [
    "### Input: \n",
    "  - a[] = {1, 3, 4, 2, 6, 5, 8, 7}\n",
    "### Output: \n",
    "  - Mean = 4.5, Median = 4.5\n",
    "#### Explanation: Sum of the elements is 1 + 3 + 4 + 2 + 6 + 5 + 8 + 7 = 36, Mean = 36/8 = 4.5\n",
    "Since number of elements are even, median is average of 4th and 5th largest elements, which means Median = (4 + 5)/2 = 4.5\n",
    "\n",
    "    Input: a[] = {4, 4, 4, 4, 4}\n",
    "    Output: Mean = 4, Median = 4 "
   ]
  },
  {
   "cell_type": "code",
   "execution_count": 8,
   "metadata": {},
   "outputs": [
    {
     "name": "stdout",
     "output_type": "stream",
     "text": [
      "[4, 4, 4, 4, 4]\n",
      "[4, 4, 4, 4, 4]\n",
      "Mean :  4.0\n",
      "Median :  4\n"
     ]
    }
   ],
   "source": [
    "n = int(input(\"Enter range of element to be enter\"))\n",
    "arr = []\n",
    "mean = 0\n",
    "m = 0\n",
    "median =0\n",
    "for i in range(n):\n",
    "    arr.append(int(input()))\n",
    "print(arr)\n",
    "arr.sort()\n",
    "print(arr)\n",
    "for i in arr:\n",
    "    m = m + i\n",
    "mean = m/n\n",
    "\n",
    "if n%2 ==0:\n",
    "    avg = n//2\n",
    "    print(\"avg\",avg)\n",
    "    median = (arr[avg-1]+arr[avg])/2\n",
    "else:\n",
    "    avg = (n+1)//2\n",
    "    median = arr[avg]\n",
    "\n",
    "print(\"Mean : \", mean)\n",
    "print(\"Median : \",median)\n",
    "\n"
   ]
  }
 ],
 "metadata": {
  "kernelspec": {
   "display_name": "base",
   "language": "python",
   "name": "python3"
  },
  "language_info": {
   "codemirror_mode": {
    "name": "ipython",
    "version": 3
   },
   "file_extension": ".py",
   "mimetype": "text/x-python",
   "name": "python",
   "nbconvert_exporter": "python",
   "pygments_lexer": "ipython3",
   "version": "3.9.12"
  },
  "orig_nbformat": 4
 },
 "nbformat": 4,
 "nbformat_minor": 2
}
