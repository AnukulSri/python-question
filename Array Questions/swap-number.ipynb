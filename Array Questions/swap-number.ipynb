{
 "cells": [
  {
   "cell_type": "markdown",
   "metadata": {},
   "source": [
    "Given an array of N distinct elements from 1 to N, find the minimum number\n",
    "of swaps required to sort the array.\n",
    "\n",
    "- Input: arr[] = {4, 3, 2, 1}\n",
    "- Output: 2\n",
    "\n",
    "Swap index 0 with 3 and 1 with 2 to get the sorted array {1, 2, 3, 4}."
   ]
  },
  {
   "cell_type": "code",
   "execution_count": 3,
   "metadata": {},
   "outputs": [
    {
     "name": "stdout",
     "output_type": "stream",
     "text": [
      "[1, 3, 2, 4]\n",
      "[1, 2, 3, 4]\n",
      "2\n"
     ]
    }
   ],
   "source": [
    "def minimum_swaps(arr):\n",
    "    swaps = 0\n",
    "    n = len(arr)\n",
    "\n",
    "    for i in range(n):\n",
    "        while arr[i] != i + 1:\n",
    "            # Swap the current element with the element at its correct position\n",
    "            arr[arr[i] - 1], arr[i] = arr[i], arr[arr[i] - 1]\n",
    "            # print(arr)\n",
    "            swaps += 1\n",
    "\n",
    "    return swaps\n",
    "\n",
    "# Example usage:\n",
    "arr = [4, 3, 2, 1]\n",
    "result = minimum_swaps(arr)\n",
    "print(result)  # Output: 3\n"
   ]
  }
 ],
 "metadata": {
  "kernelspec": {
   "display_name": "base",
   "language": "python",
   "name": "python3"
  },
  "language_info": {
   "codemirror_mode": {
    "name": "ipython",
    "version": 3
   },
   "file_extension": ".py",
   "mimetype": "text/x-python",
   "name": "python",
   "nbconvert_exporter": "python",
   "pygments_lexer": "ipython3",
   "version": "3.9.12"
  },
  "orig_nbformat": 4
 },
 "nbformat": 4,
 "nbformat_minor": 2
}
