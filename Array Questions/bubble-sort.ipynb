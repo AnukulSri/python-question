{
 "cells": [
  {
   "cell_type": "code",
   "execution_count": 9,
   "metadata": {},
   "outputs": [
    {
     "name": "stdout",
     "output_type": "stream",
     "text": [
      "[1, 6, 2, 9, 4, 0, 10]\n",
      "[1, 2, 6, 4, 0, 9, 10]\n",
      "[1, 2, 4, 0, 6, 9, 10]\n",
      "[1, 2, 0, 4, 6, 9, 10]\n",
      "[1, 0, 2, 4, 6, 9, 10]\n",
      "[0, 1, 2, 4, 6, 9, 10]\n",
      "[0, 1, 2, 4, 6, 9, 10]\n"
     ]
    }
   ],
   "source": [
    "l = [1,6,9,2,10,4,0]\n",
    "for i in range(len(l)):\n",
    "    for j in range(len(l)-1):\n",
    "        if l[j] > l[j+1]:\n",
    "            temp = l[j]\n",
    "            l[j] = l[j+1]\n",
    "            l[j+1] = temp   \n",
    "print(l)\n"
   ]
  }
 ],
 "metadata": {
  "kernelspec": {
   "display_name": "base",
   "language": "python",
   "name": "python3"
  },
  "language_info": {
   "codemirror_mode": {
    "name": "ipython",
    "version": 3
   },
   "file_extension": ".py",
   "mimetype": "text/x-python",
   "name": "python",
   "nbconvert_exporter": "python",
   "pygments_lexer": "ipython3",
   "version": "3.9.12"
  },
  "orig_nbformat": 4
 },
 "nbformat": 4,
 "nbformat_minor": 2
}
