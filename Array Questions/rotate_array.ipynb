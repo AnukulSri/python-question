{
 "cells": [
  {
   "cell_type": "markdown",
   "metadata": {},
   "source": [
    "Given an unsorted array arr[] of size N. Rotate the array to the left (counter-clockwise direction) by D steps, where D is a positive integer. "
   ]
  },
  {
   "cell_type": "markdown",
   "metadata": {},
   "source": [
    "### Input:\n",
    "    N = 5, D = 2\n",
    "    arr[] = {1,2,3,4,5}\n",
    "### Output: \n",
    "    3 4 5 1 2\n",
    "\n",
    "### Explanation: \n",
    "    1 2 3 4 5  when rotated by 2 elements, it becomes 3 4 5 1 2."
   ]
  },
  {
   "cell_type": "code",
   "execution_count": 2,
   "metadata": {},
   "outputs": [
    {
     "name": "stdout",
     "output_type": "stream",
     "text": [
      "[3, 4, 5, 1, 2]\n"
     ]
    }
   ],
   "source": [
    "def rotate_left(arr, k):\n",
    "    k = k % len(arr)  # To handle cases where k is larger than the array size\n",
    "    # print(k)\n",
    "    # print(arr[k:])\n",
    "    return arr[k:] + arr[:k]\n",
    "\n",
    "n = int(input(\"Enter a size of array\"))\n",
    "l = []\n",
    "for i in range(n):\n",
    "    l.append(int(input()))\n",
    "d = int(input(\"Enter rotation size\"))\n",
    "\n",
    "# my_array = [1, 2, 3, 4, 5]\n",
    "rotated_array = rotate_left(l, d)\n",
    "print(rotated_array)  \n"
   ]
  }
 ],
 "metadata": {
  "kernelspec": {
   "display_name": "base",
   "language": "python",
   "name": "python3"
  },
  "language_info": {
   "codemirror_mode": {
    "name": "ipython",
    "version": 3
   },
   "file_extension": ".py",
   "mimetype": "text/x-python",
   "name": "python",
   "nbconvert_exporter": "python",
   "pygments_lexer": "ipython3",
   "version": "3.9.12"
  },
  "orig_nbformat": 4
 },
 "nbformat": 4,
 "nbformat_minor": 2
}
