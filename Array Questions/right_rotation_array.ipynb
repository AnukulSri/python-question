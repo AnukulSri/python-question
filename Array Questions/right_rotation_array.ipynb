{
 "cells": [
  {
   "cell_type": "markdown",
   "metadata": {},
   "source": [
    "Given an Array of size N and a values K, around which we need to right rotate the array. How to quickly print the right rotated array?"
   ]
  },
  {
   "cell_type": "markdown",
   "metadata": {},
   "source": [
    "## Example:\n",
    "    Input: Array[] = {1, 3, 5, 7, 9}, K = 2.\n",
    "    Output: 7 9 1 3 5\n",
    "    Explanation:\n",
    "    After 1st rotation - {9, 1, 3, 5, 7}\n",
    "    After 2nd rotation - {7, 9, 1, 3, 5}\n",
    "\n",
    "### Input: \n",
    "    Array[] = {1, 2, 3, 4, 5}, K = 4.\n",
    "    Output: 2 3 4 5 1      "
   ]
  },
  {
   "cell_type": "code",
   "execution_count": 27,
   "metadata": {},
   "outputs": [
    {
     "name": "stdout",
     "output_type": "stream",
     "text": [
      "[7, 9, 1, 3, 5]\n"
     ]
    }
   ],
   "source": [
    "k = int(input(\"enter number of rotation\"))\n",
    "l=[]\n",
    "for i in range(5):\n",
    "    l.append(int(input()))\n",
    "# print(l[:k])\n",
    "leng = len(l)\n",
    "for i in range(k):\n",
    "    l = l[-1:] + l[:leng-1]\n",
    "    # print(l)\n",
    "print(l)"
   ]
  },
  {
   "cell_type": "code",
   "execution_count": 30,
   "metadata": {},
   "outputs": [
    {
     "name": "stdout",
     "output_type": "stream",
     "text": [
      "[2, 3, 4, 5, 1]\n"
     ]
    }
   ],
   "source": [
    "def rotate_right(arr,k):\n",
    "    k = k%len(arr)# To handle cases where k is larger than the array size\n",
    "    leng = len(arr)\n",
    "\n",
    "    for i in range(k):\n",
    "        arr = arr[-1:] + arr[:leng-1]\n",
    "    return arr\n",
    "\n",
    "\n",
    "k = int(input(\"Enter number of rotation\"))\n",
    "l=[]\n",
    "for i in range(5):\n",
    "    l.append(int(input()))\n",
    "r = rotate_right(l,k)\n",
    "print(r)\n",
    "\n"
   ]
  },
  {
   "cell_type": "code",
   "execution_count": 1,
   "metadata": {},
   "outputs": [
    {
     "name": "stdout",
     "output_type": "stream",
     "text": [
      "( 30 , 40 )\n",
      "( 5 , 10 )\n"
     ]
    }
   ],
   "source": [
    "def findSymPairs(arr, row):\n",
    "   \n",
    "    # This loop for selection of one pair\n",
    "    for i in range(0, row):\n",
    "       \n",
    "        # This loop for searching of symmetric pair\n",
    "        for j in range(i + 1, row):\n",
    "           \n",
    "            # Condition of symmetric pair\n",
    "            if (arr[i][0] == arr[j][1] and arr[i][1] == arr[j][0]):\n",
    "                print(\"(\",arr[i][0],\",\",arr[i][1],\")\")\n",
    "                 \n",
    "# Driver Code\n",
    "if __name__ == '__main__':\n",
    "    arr = [[0 for i in range(2)]\n",
    "            for i in range(5)]\n",
    "    arr[0][0], arr[0][1] = 11, 20\n",
    "    arr[1][0], arr[1][1] = 30, 40\n",
    "    arr[2][0], arr[2][1] = 5, 10\n",
    "    arr[3][0], arr[3][1] = 40, 30\n",
    "    arr[4][0], arr[4][1] = 10, 5\n",
    "    findSymPairs(arr, 5)"
   ]
  }
 ],
 "metadata": {
  "kernelspec": {
   "display_name": "base",
   "language": "python",
   "name": "python3"
  },
  "language_info": {
   "codemirror_mode": {
    "name": "ipython",
    "version": 3
   },
   "file_extension": ".py",
   "mimetype": "text/x-python",
   "name": "python",
   "nbconvert_exporter": "python",
   "pygments_lexer": "ipython3",
   "version": "3.9.12"
  },
  "orig_nbformat": 4
 },
 "nbformat": 4,
 "nbformat_minor": 2
}
