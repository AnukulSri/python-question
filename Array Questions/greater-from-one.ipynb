{
 "cells": [
  {
   "cell_type": "markdown",
   "metadata": {},
   "source": [
    "Find all elements in an array that are greater than all elements present to\n",
    "their right\n",
    "\n",
    "Description: Given an unsorted array of integers, print all elements which are\n",
    "greater than all elements present to its right.\n"
   ]
  },
  {
   "cell_type": "markdown",
   "metadata": {},
   "source": [
    "Input: [10, 4, 6, 3, 5]\n",
    "\n",
    "Output: [10, 6]"
   ]
  },
  {
   "cell_type": "code",
   "execution_count": 1,
   "metadata": {},
   "outputs": [
    {
     "name": "stdout",
     "output_type": "stream",
     "text": [
      "[10, 6]\n"
     ]
    }
   ],
   "source": [
    "n = int(input(\"Enter number of element\"))\n",
    "l=[]\n",
    "great =[]\n",
    "for i in range(n):\n",
    "    l.append(int(input()))\n",
    "for i in range(n-1):\n",
    "        if l[i] > l[i+1]:\n",
    "            great.append(l[i])\n",
    "# great.append(l[-1])\n",
    "print(great)\n"
   ]
  }
 ],
 "metadata": {
  "kernelspec": {
   "display_name": "base",
   "language": "python",
   "name": "python3"
  },
  "language_info": {
   "codemirror_mode": {
    "name": "ipython",
    "version": 3
   },
   "file_extension": ".py",
   "mimetype": "text/x-python",
   "name": "python",
   "nbconvert_exporter": "python",
   "pygments_lexer": "ipython3",
   "version": "3.9.12"
  },
  "orig_nbformat": 4
 },
 "nbformat": 4,
 "nbformat_minor": 2
}
