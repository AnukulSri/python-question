{
 "cells": [
  {
   "cell_type": "code",
   "execution_count": 2,
   "metadata": {},
   "outputs": [
    {
     "name": "stdout",
     "output_type": "stream",
     "text": [
      "Count of combinations with a sum of 15: 6\n"
     ]
    }
   ],
   "source": [
    "from itertools import combinations\n",
    "\n",
    "l = [1, 3, 5, 8, 3, 6, 5]\n",
    "k = 15\n",
    "\n",
    "count= 0\n",
    "\n",
    "for i in range(1, len(l) + 1):\n",
    "    for j in combinations(l, i):\n",
    "        # print(j)\n",
    "        if sum(j) == k:\n",
    "            count += 1\n",
    "\n",
    "print(\"Count of combinations with a sum of 15:\", count)\n"
   ]
  },
  {
   "cell_type": "code",
   "execution_count": null,
   "metadata": {},
   "outputs": [],
   "source": []
  }
 ],
 "metadata": {
  "kernelspec": {
   "display_name": "base",
   "language": "python",
   "name": "python3"
  },
  "language_info": {
   "codemirror_mode": {
    "name": "ipython",
    "version": 3
   },
   "file_extension": ".py",
   "mimetype": "text/x-python",
   "name": "python",
   "nbconvert_exporter": "python",
   "pygments_lexer": "ipython3",
   "version": "3.9.12"
  },
  "orig_nbformat": 4
 },
 "nbformat": 4,
 "nbformat_minor": 2
}
