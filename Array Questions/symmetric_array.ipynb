{
 "cells": [
  {
   "cell_type": "markdown",
   "metadata": {},
   "source": [
    "Two pairs (a, b) and (c, d) are said to be symmetric if c is equal to b and a is equal to d. \n",
    "\n",
    "### For example:\n",
    "    (10, 20) and (20, 10) are symmetric. Given an array of pairs find all symmetric pairs in it. "
   ]
  },
  {
   "cell_type": "markdown",
   "metadata": {},
   "source": [
    "- Input: arr[] = {{11, 20}, {30, 40}, {5, 10}, {40, 30}, {10, 5}}\n",
    "- Output: Following pairs have symmetric pairs\n",
    "        (30, 40)\n",
    "        (5, 10)  "
   ]
  },
  {
   "cell_type": "code",
   "execution_count": 1,
   "metadata": {},
   "outputs": [
    {
     "ename": "ValueError",
     "evalue": "invalid literal for int() with base 10: ''",
     "output_type": "error",
     "traceback": [
      "\u001b[1;31m---------------------------------------------------------------------------\u001b[0m",
      "\u001b[1;31mValueError\u001b[0m                                Traceback (most recent call last)",
      "\u001b[1;32mc:\\Users\\anuku\\OneDrive\\Desktop\\python question\\Array Questions\\symmetric_array.ipynb Cell 3\u001b[0m in \u001b[0;36m1\n\u001b[1;32m----> <a href='vscode-notebook-cell:/c%3A/Users/anuku/OneDrive/Desktop/python%20question/Array%20Questions/symmetric_array.ipynb#W2sZmlsZQ%3D%3D?line=0'>1</a>\u001b[0m rows \u001b[39m=\u001b[39m \u001b[39mint\u001b[39;49m(\u001b[39minput\u001b[39;49m(\u001b[39m\"\u001b[39;49m\u001b[39mEnter the number of rows: \u001b[39;49m\u001b[39m\"\u001b[39;49m))\n\u001b[0;32m      <a href='vscode-notebook-cell:/c%3A/Users/anuku/OneDrive/Desktop/python%20question/Array%20Questions/symmetric_array.ipynb#W2sZmlsZQ%3D%3D?line=1'>2</a>\u001b[0m cols \u001b[39m=\u001b[39m \u001b[39mint\u001b[39m(\u001b[39minput\u001b[39m(\u001b[39m\"\u001b[39m\u001b[39mEnter the number of columns: \u001b[39m\u001b[39m\"\u001b[39m))\n\u001b[0;32m      <a href='vscode-notebook-cell:/c%3A/Users/anuku/OneDrive/Desktop/python%20question/Array%20Questions/symmetric_array.ipynb#W2sZmlsZQ%3D%3D?line=2'>3</a>\u001b[0m arr \u001b[39m=\u001b[39m []\n",
      "\u001b[1;31mValueError\u001b[0m: invalid literal for int() with base 10: ''"
     ]
    }
   ],
   "source": [
    "rows = int(input(\"Enter the number of rows: \"))\n",
    "cols = int(input(\"Enter the number of columns: \"))\n",
    "arr = []\n",
    "for i in range(rows):\n",
    "        row = list(map(int, input().split()))\n",
    "        arr.append(row)\n",
    "\n",
    "\n",
    "for i in range(rows):\n",
    "        for j in range(i+1,rows):\n",
    "                if arr[i][0] == arr[j][1] and arr[i][1] == arr[j][0]:\n",
    "                        print(arr[i])\n",
    "print(\"Matrix entered:\",arr)\n",
    "\n"
   ]
  }
 ],
 "metadata": {
  "kernelspec": {
   "display_name": "base",
   "language": "python",
   "name": "python3"
  },
  "language_info": {
   "codemirror_mode": {
    "name": "ipython",
    "version": 3
   },
   "file_extension": ".py",
   "mimetype": "text/x-python",
   "name": "python",
   "nbconvert_exporter": "python",
   "pygments_lexer": "ipython3",
   "version": "3.9.12"
  },
  "orig_nbformat": 4
 },
 "nbformat": 4,
 "nbformat_minor": 2
}
