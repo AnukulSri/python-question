{
 "cells": [
  {
   "cell_type": "markdown",
   "metadata": {},
   "source": [
    "Two pairs (a, b) and (c, d) are said to be symmetric if c is equal to b and a is equal to d. \n",
    "\n",
    "### For example:\n",
    "    (10, 20) and (20, 10) are symmetric. Given an array of pairs find all symmetric pairs in it. "
   ]
  },
  {
   "cell_type": "markdown",
   "metadata": {},
   "source": [
    "- Input: arr[] = {{11, 20}, {30, 40}, {5, 10}, {40, 30}, {10, 5}}\n",
    "- Output: Following pairs have symmetric pairs\n",
    "        (30, 40)\n",
    "        (5, 10)  "
   ]
  },
  {
   "cell_type": "code",
   "execution_count": 10,
   "metadata": {},
   "outputs": [
    {
     "name": "stdout",
     "output_type": "stream",
     "text": [
      "Matrix entered: [[1, 2, 4], [4, 5], [3, 27, 8]]\n"
     ]
    }
   ],
   "source": [
    "rows = int(input(\"Enter the number of rows: \"))\n",
    "cols = int(input(\"Enter the number of columns: \"))\n",
    "arr = []\n",
    "for i in range(rows):\n",
    "        row = list(map(int, input().split()))\n",
    "        arr.append(row)\n",
    "\n",
    "\n",
    "for i in range(rows):\n",
    "        for j in range(i+1,rows):\n",
    "                if arr[i][0] == arr[j][1] and arr[i][1] == arr[j][0]:\n",
    "                        print(arr[i])\n",
    "print(\"Matrix entered:\",arr)\n",
    "\n"
   ]
  }
 ],
 "metadata": {
  "kernelspec": {
   "display_name": "base",
   "language": "python",
   "name": "python3"
  },
  "language_info": {
   "codemirror_mode": {
    "name": "ipython",
    "version": 3
   },
   "file_extension": ".py",
   "mimetype": "text/x-python",
   "name": "python",
   "nbconvert_exporter": "python",
   "pygments_lexer": "ipython3",
   "version": "3.9.12"
  },
  "orig_nbformat": 4
 },
 "nbformat": 4,
 "nbformat_minor": 2
}
