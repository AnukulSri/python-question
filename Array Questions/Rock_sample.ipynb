{
 "cells": [
  {
   "cell_type": "markdown",
   "metadata": {},
   "source": [
    "### Problem Statement: \n",
    "Given an array samples[] denoting sizes of rock samples and a 2D array ranges[], the task is to count the rock samples that are in the range ranges[i][0] to ranges[i][1], for every possible 1 <= i <= N."
   ]
  },
  {
   "cell_type": "markdown",
   "metadata": {},
   "source": [
    "#### Input: \n",
    "   samples[] = {345, 604, 321, 433, 704, 470, 808, 718, 517, 811}\n",
    "   ranges[] = {{300, 380}, {400, 700}}\n",
    "#### Output: 2 4\n",
    "\n",
    "### Explanation: \n",
    "    Range [300, 380]: Samples {345, 321} lie in the range. Therefore, the count is 2. \n",
    "    Range [400, 700]: Samples {433, 604, 517, 470} lie in the range. Therefore, the count is 4."
   ]
  },
  {
   "cell_type": "code",
   "execution_count": 6,
   "metadata": {},
   "outputs": [
    {
     "name": "stdout",
     "output_type": "stream",
     "text": [
      "2  4\n",
      "2 elements lies between 300 and 380, and 4 elements lies between 400 and 700\n"
     ]
    }
   ],
   "source": [
    "rangee=[[300,380],[400,700]]\n",
    "n = int(input(\"Enter a no. of element to input in list\"))\n",
    "l=[]\n",
    "c=0\n",
    "d=0\n",
    "for i in range(n):\n",
    "    l.append(int(input(\"Enter a number\")))\n",
    "\n",
    "for i in l:\n",
    "    if i >= rangee[0][0] and i<=rangee[0][1]:\n",
    "        c +=1\n",
    "        \n",
    "    elif i>=rangee[1][0] and i<=rangee[1][1]:\n",
    "        d += 1\n",
    "\n",
    "print(c,\"\",d)\n",
    "print(f'{c} elements lies between 300 and 380, and {d} elements lies between 400 and 700')"
   ]
  }
 ],
 "metadata": {
  "kernelspec": {
   "display_name": "base",
   "language": "python",
   "name": "python3"
  },
  "language_info": {
   "codemirror_mode": {
    "name": "ipython",
    "version": 3
   },
   "file_extension": ".py",
   "mimetype": "text/x-python",
   "name": "python",
   "nbconvert_exporter": "python",
   "pygments_lexer": "ipython3",
   "version": "3.9.12"
  },
  "orig_nbformat": 4
 },
 "nbformat": 4,
 "nbformat_minor": 2
}
