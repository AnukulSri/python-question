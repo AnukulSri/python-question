{
 "cells": [
  {
   "cell_type": "markdown",
   "metadata": {},
   "source": [
    "Smallest and second smallest elements in an array"
   ]
  },
  {
   "cell_type": "markdown",
   "metadata": {},
   "source": [
    "- Input:  arr[] = {12, 13, 1, 10, 34, 1}\n",
    "- Output: \n",
    "        The smallest element is 1 and \n",
    "        second Smallest element is 10"
   ]
  },
  {
   "cell_type": "code",
   "execution_count": 9,
   "metadata": {},
   "outputs": [
    {
     "name": "stdout",
     "output_type": "stream",
     "text": [
      "{1, 34, 10, 12, 13}\n",
      "[1, 10, 12, 13, 34]\n",
      "The smallest number is  1\n",
      "The second smallest number is  10\n"
     ]
    }
   ],
   "source": [
    "n = int(input(\"Enter range of element\"))\n",
    "l = []\n",
    "for i in range(n):\n",
    "    l.append(int(input()))\n",
    "s= set(l)\n",
    "# print(s)\n",
    "l = list(s)\n",
    "l.sort()\n",
    "# print(l)\n",
    "print(\"The smallest number is \",l[0])\n",
    "print(\"The second smallest number is \",l[1])"
   ]
  }
 ],
 "metadata": {
  "kernelspec": {
   "display_name": "base",
   "language": "python",
   "name": "python3"
  },
  "language_info": {
   "codemirror_mode": {
    "name": "ipython",
    "version": 3
   },
   "file_extension": ".py",
   "mimetype": "text/x-python",
   "name": "python",
   "nbconvert_exporter": "python",
   "pygments_lexer": "ipython3",
   "version": "3.9.12"
  },
  "orig_nbformat": 4
 },
 "nbformat": 4,
 "nbformat_minor": 2
}
