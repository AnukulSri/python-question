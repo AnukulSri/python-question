{
 "cells": [
  {
   "cell_type": "markdown",
   "metadata": {},
   "source": [
    "Finding Missing number in array without using extra space.\n",
    "\n",
    "### Description: \n",
    "Given a limited range array of size n where array contains elements\n",
    "between 1 to n+1 with one element missing, find the missing number without using\n",
    "extra space.\n",
    "\n",
    "Input: [ 3, 2, 4, 6, 1]\n",
    "\n",
    "Output: The missing element is 5\n"
   ]
  },
  {
   "cell_type": "code",
   "execution_count": 11,
   "metadata": {},
   "outputs": [
    {
     "name": "stdout",
     "output_type": "stream",
     "text": [
      "Inputed list: [21, 24, 26, 28, 27]\n",
      "The missing number in list is: [22, 23, 25]\n"
     ]
    }
   ],
   "source": [
    "n = int(input(\"Enter a number\"))\n",
    "l=[]\n",
    "for i in range(n):\n",
    "    l.append(int(input()))\n",
    "min_no = min(l)\n",
    "max_no = max(l)\n",
    "\n",
    "l2=[]\n",
    "for i in range(min_no,max_no+1):\n",
    "    l2.append(i)\n",
    "# print(l)\n",
    "# print(l2)\n",
    "l3 = []\n",
    "for k in l2:\n",
    "    if k not in l:\n",
    "        l3.append(k)\n",
    "print(\"Inputed list:\",29\n",
    "      l)\n",
    "print(\"The missing number in list is:\",l3)\n"
   ]
  }
 ],
 "metadata": {
  "kernelspec": {
   "display_name": "base",
   "language": "python",
   "name": "python3"
  },
  "language_info": {
   "codemirror_mode": {
    "name": "ipython",
    "version": 3
   },
   "file_extension": ".py",
   "mimetype": "text/x-python",
   "name": "python",
   "nbconvert_exporter": "python",
   "pygments_lexer": "ipython3",
   "version": "3.9.12"
  },
  "orig_nbformat": 4
 },
 "nbformat": 4,
 "nbformat_minor": 2
}
