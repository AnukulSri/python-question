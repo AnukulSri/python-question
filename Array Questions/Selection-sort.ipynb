{
 "cells": [
  {
   "cell_type": "markdown",
   "metadata": {},
   "source": [
    "# Selection sort"
   ]
  },
  {
   "cell_type": "code",
   "execution_count": 4,
   "metadata": {},
   "outputs": [
    {
     "name": "stdout",
     "output_type": "stream",
     "text": [
      "[0, 2, 3, 4, 5, 7, 9]\n"
     ]
    }
   ],
   "source": [
    "l = [2,3,9,7,4,0,5]\n",
    "for i in range(len(l)):\n",
    "    for j in range(len(l)-1):\n",
    "        if l[j] > l[j+1]:\n",
    "            trmp = l[j]\n",
    "            l[j] = l[j+1]\n",
    "            l[j+1] = trmp\n",
    "print(l)"
   ]
  }
 ],
 "metadata": {
  "kernelspec": {
   "display_name": "base",
   "language": "python",
   "name": "python3"
  },
  "language_info": {
   "codemirror_mode": {
    "name": "ipython",
    "version": 3
   },
   "file_extension": ".py",
   "mimetype": "text/x-python",
   "name": "python",
   "nbconvert_exporter": "python",
   "pygments_lexer": "ipython3",
   "version": "3.9.12"
  },
  "orig_nbformat": 4
 },
 "nbformat": 4,
 "nbformat_minor": 2
}
