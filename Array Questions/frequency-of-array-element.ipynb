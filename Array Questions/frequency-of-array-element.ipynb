{
 "cells": [
  {
   "cell_type": "markdown",
   "metadata": {},
   "source": [
    "# Counting frequencies of array elements"
   ]
  },
  {
   "cell_type": "markdown",
   "metadata": {},
   "source": [
    "#### Input :  \n",
    "    arr[] = {10, 20, 20, 10, 10, 20, 5, 20}\n",
    "#### Output : \n",
    "         10 3\n",
    "         20 4\n",
    "         5  1\n",
    "\n",
    "#### Input : \n",
    "    arr[] = {10, 20, 20}\n",
    "#### Output : \n",
    "        10 1\n",
    "        20 2 "
   ]
  },
  {
   "cell_type": "code",
   "execution_count": 3,
   "metadata": {},
   "outputs": [
    {
     "name": "stdout",
     "output_type": "stream",
     "text": [
      "frequency of 1 is 1\n",
      "frequency of 3 is 2\n",
      "frequency of 4 is 2\n",
      "frequency of 5 is 1\n",
      "frequency of 6 is 1\n"
     ]
    }
   ],
   "source": [
    "def frequency(arr):\n",
    "    unique = set(arr)\n",
    "    for i in unique:\n",
    "        c=0\n",
    "        for j in l:\n",
    "            if i == j:\n",
    "                c +=1\n",
    "        print(f'frequency of {i} is {c}')\n",
    "##########\n",
    "n = int(input(\"Enter number of element\"))\n",
    "l = []\n",
    "for i in range(n):\n",
    "    l.append(int(input()))\n",
    "frequency(l)\n",
    "\n"
   ]
  }
 ],
 "metadata": {
  "kernelspec": {
   "display_name": "base",
   "language": "python",
   "name": "python3"
  },
  "language_info": {
   "codemirror_mode": {
    "name": "ipython",
    "version": 3
   },
   "file_extension": ".py",
   "mimetype": "text/x-python",
   "name": "python",
   "nbconvert_exporter": "python",
   "pygments_lexer": "ipython3",
   "version": "3.9.12"
  },
  "orig_nbformat": 4
 },
 "nbformat": 4,
 "nbformat_minor": 2
}
