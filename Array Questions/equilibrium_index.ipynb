{
 "cells": [
  {
   "cell_type": "markdown",
   "metadata": {},
   "source": [
    "Given an array Arr of length N. Determine if there exists an element in the array such that the sum of the elements on its left is equal to the sum of the elements on its right. If there are no elements to the left/right, then the sum is considered to be zero. "
   ]
  },
  {
   "cell_type": "markdown",
   "metadata": {},
   "source": [
    "### Input:\n",
    "    N = 4\n",
    "    Arr[] = {1, 2, 3, 3}\n",
    "### Output: \n",
    "    YES\n",
    "### Explanation: \n",
    "    Consider i = 3, for [1, 2] \n",
    "    sum is 3 and for [3] \n",
    "    sum is also 3."
   ]
  },
  {
   "cell_type": "code",
   "execution_count": 5,
   "metadata": {},
   "outputs": [
    {
     "name": "stdout",
     "output_type": "stream",
     "text": [
      "2\n"
     ]
    }
   ],
   "source": [
    "def equilibrium(arr, n):\n",
    "    # Calculate the total sum of the array\n",
    "    total_sum = sum(arr)\n",
    "    \n",
    "    left_sum = 0\n",
    "    right_sum = total_sum\n",
    "    \n",
    "    for i in range(n):\n",
    "        # Remove the current element from the right sum and compare left_sum and right_sum\n",
    "        right_sum -= arr[i]\n",
    "        # print(\"right_sum\",right_sum)\n",
    "        \n",
    "        if left_sum == right_sum:\n",
    "            # print(\"left1\",left_sum)\n",
    "            return i\n",
    "        \n",
    "        # Add the current element to the left sum for the next iteration\n",
    "        left_sum += arr[i]\n",
    "        # print(\"left2\",left_sum)\n",
    "    \n",
    "    # If no equilibrium index is found, return -1\n",
    "    return -1\n",
    "\n",
    "my_array = [1,3,5,2,2]\n",
    "result = equilibrium(my_array, len(my_array))\n",
    "print(result)\n"
   ]
  }
 ],
 "metadata": {
  "kernelspec": {
   "display_name": "base",
   "language": "python",
   "name": "python3"
  },
  "language_info": {
   "codemirror_mode": {
    "name": "ipython",
    "version": 3
   },
   "file_extension": ".py",
   "mimetype": "text/x-python",
   "name": "python",
   "nbconvert_exporter": "python",
   "pygments_lexer": "ipython3",
   "version": "3.9.12"
  },
  "orig_nbformat": 4
 },
 "nbformat": 4,
 "nbformat_minor": 2
}
