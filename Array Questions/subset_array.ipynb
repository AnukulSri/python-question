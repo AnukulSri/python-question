{
 "cells": [
  {
   "cell_type": "markdown",
   "metadata": {},
   "source": [
    "Given two arrays: arr1[0..m-1] and arr2[0..n-1]. Find whether arr2[] is a subset of arr1[] or not. Both arrays are not in sorted order. It may be assumed that elements in both arrays are distinct."
   ]
  },
  {
   "cell_type": "markdown",
   "metadata": {},
   "source": [
    "### Input: \n",
    "  arr1[] = {11, 1, 13, 21, 3, 7}, arr2[] = {11, 3, 7, 1} \n",
    "### Output: \n",
    "  arr2[] is a subset of arr1[]"
   ]
  },
  {
   "cell_type": "markdown",
   "metadata": {},
   "source": [
    "### Input: \n",
    "  arr1[] = {10, 5, 2, 23, 19}, arr2[] = {19, 5, 3} \n",
    "### Output: \n",
    "  arr2[] is not a subset of arr1[] "
   ]
  },
  {
   "cell_type": "code",
   "execution_count": 4,
   "metadata": {},
   "outputs": [
    {
     "name": "stdout",
     "output_type": "stream",
     "text": [
      "l [10, 5, 2, 23, 19]\n",
      "l2 [19, 5, 3]\n",
      "l is not a subset of l\n"
     ]
    }
   ],
   "source": [
    "n = int(input(\"Enter a number of elemnts\"))\n",
    "l = []\n",
    "l2 =[]\n",
    "c=0\n",
    "for i in range(n):\n",
    "    l.append(int(input()))\n",
    "n2 = int(input(\"Enter a number of elemnts\"))\n",
    "for i in range(n2):\n",
    "    l2.append(int(input()))\n",
    "\n",
    "print(\"l\" , l)\n",
    "print(\"l2\",l2)\n",
    "\n",
    "for j in l2:\n",
    "    if j in l:\n",
    "        c +=1\n",
    "if c == len(l2):\n",
    "    print(\"l2 is a subset of l\")\n",
    "else:\n",
    "    print('l2 is not a subset of l')\n"
   ]
  },
  {
   "cell_type": "code",
   "execution_count": 5,
   "metadata": {},
   "outputs": [
    {
     "name": "stdout",
     "output_type": "stream",
     "text": [
      "l2 is not a subset of l\n"
     ]
    }
   ],
   "source": [
    "def subset(l,l2):\n",
    "    c=0\n",
    "    for i in l2:\n",
    "        if i in l:\n",
    "            c +=1\n",
    "    if c == len(l2):\n",
    "        return 'l2 is a subset of l'\n",
    "    else:\n",
    "        return 'l2 is not a subset of l'\n",
    "\n",
    "n = int(input(\"Enter a number of elemnts\"))\n",
    "l = []\n",
    "l2 =[]\n",
    "for i in range(n):\n",
    "    l.append(int(input()))\n",
    "n2 = int(input(\"Enter a number of elemnts\"))\n",
    "for i in range(n2):\n",
    "    l2.append(int(input()))\n",
    "rt = subset(l,l2)\n",
    "print(rt)"
   ]
  }
 ],
 "metadata": {
  "kernelspec": {
   "display_name": "base",
   "language": "python",
   "name": "python3"
  },
  "language_info": {
   "codemirror_mode": {
    "name": "ipython",
    "version": 3
   },
   "file_extension": ".py",
   "mimetype": "text/x-python",
   "name": "python",
   "nbconvert_exporter": "python",
   "pygments_lexer": "ipython3",
   "version": "3.9.12"
  },
  "orig_nbformat": 4
 },
 "nbformat": 4,
 "nbformat_minor": 2
}
