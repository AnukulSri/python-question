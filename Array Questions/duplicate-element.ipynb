{
 "cells": [
  {
   "cell_type": "markdown",
   "metadata": {},
   "source": [
    "# Remove duplicates from Sorted Array"
   ]
  },
  {
   "cell_type": "markdown",
   "metadata": {},
   "source": [
    "#### Input: \n",
    "    arr[] = {2, 2, 2, 2, 2}\n",
    "#### Output: \n",
    "    arr[] = {2}\n",
    "##### Explanation: All the elements are 2, So only keep one instance of 2.\n",
    "\n",
    "#### Input: \n",
    "    arr[] = {1, 2, 2, 3, 4, 4, 4, 5, 5}\n",
    "#### Output: \n",
    "    arr[] = {1, 2, 3, 4, 5}"
   ]
  },
  {
   "cell_type": "code",
   "execution_count": 8,
   "metadata": {},
   "outputs": [
    {
     "name": "stdout",
     "output_type": "stream",
     "text": [
      "[2, 4, 5]\n"
     ]
    }
   ],
   "source": [
    "def duplicate(arr):\n",
    "    arr.sort()\n",
    "    seen = set()\n",
    "    dup = set()\n",
    "    for i in arr:\n",
    "        if i in seen:\n",
    "            dup.add(i)\n",
    "        else:\n",
    "            seen.add(i)\n",
    "    return list(dup)\n",
    "\n",
    "\n",
    "n= int(input(\"Enter number of element\"))\n",
    "arr = []\n",
    "for i in range(n):\n",
    "    arr.append(int(input()))\n",
    "\n",
    "r = duplicate(arr)\n",
    "print(r)\n",
    "\n"
   ]
  }
 ],
 "metadata": {
  "kernelspec": {
   "display_name": "base",
   "language": "python",
   "name": "python3"
  },
  "language_info": {
   "codemirror_mode": {
    "name": "ipython",
    "version": 3
   },
   "file_extension": ".py",
   "mimetype": "text/x-python",
   "name": "python",
   "nbconvert_exporter": "python",
   "pygments_lexer": "ipython3",
   "version": "3.9.12"
  },
  "orig_nbformat": 4
 },
 "nbformat": 4,
 "nbformat_minor": 2
}
