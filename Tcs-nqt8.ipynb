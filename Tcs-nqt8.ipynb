{
 "cells": [
  {
   "cell_type": "markdown",
   "metadata": {},
   "source": [
    "Given an array of integers where every element appears even number of times except one element which appears odd number of times, write a program to find that odd occurring element. The equal elements must appear in pairs in the array but there cannot be more than two consecutive occurrences of an element. "
   ]
  },
  {
   "cell_type": "code",
   "execution_count": 18,
   "metadata": {},
   "outputs": [
    {
     "name": "stdout",
     "output_type": "stream",
     "text": [
      "1\n",
      "0\n",
      "2\n",
      "0\n",
      "4\n",
      "7\n",
      "4\n",
      "The odd occurring element is: 4\n"
     ]
    }
   ],
   "source": [
    "def find_odd_occurrence(arr):\n",
    "    result = 0\n",
    "    for num in arr:\n",
    "        # print(result,end=' ')\n",
    "        result ^= num\n",
    "        print(result)\n",
    "    return result\n",
    "\n",
    "# Example usage\n",
    "n = int(input())\n",
    "arr = list(map(int,input().split()))\n",
    "odd_element = find_odd_occurrence(arr)\n",
    "print(\"The odd occurring element is:\", odd_element)\n"
   ]
  }
 ],
 "metadata": {
  "kernelspec": {
   "display_name": "base",
   "language": "python",
   "name": "python3"
  },
  "language_info": {
   "codemirror_mode": {
    "name": "ipython",
    "version": 3
   },
   "file_extension": ".py",
   "mimetype": "text/x-python",
   "name": "python",
   "nbconvert_exporter": "python",
   "pygments_lexer": "ipython3",
   "version": "3.9.12"
  },
  "orig_nbformat": 4
 },
 "nbformat": 4,
 "nbformat_minor": 2
}
