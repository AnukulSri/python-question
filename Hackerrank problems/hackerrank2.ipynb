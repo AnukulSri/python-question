{
 "cells": [
  {
   "cell_type": "markdown",
   "metadata": {},
   "source": [
    "#### Input:\n",
    "    3 1000\n",
    "    2 5 4\n",
    "    3 7 8 9 \n",
    "    5 5 7 8 9 10 \n",
    "#### Output:\n",
    "    206\n",
    "### Explanation:\n",
    "Picking 5 from the 1st list, 9 from the 2nd list and 10 from the 3rd list gives the maximum S value equal to(5^2+9^2+10^2) % 1000 =206 ."
   ]
  },
  {
   "cell_type": "code",
   "execution_count": 4,
   "metadata": {},
   "outputs": [
    {
     "name": "stdout",
     "output_type": "stream",
     "text": [
      "9497010\n",
      "9563118\n",
      "9131319\n",
      "9978282\n",
      "8531273\n",
      "8730597\n",
      "7954145\n",
      "248\n"
     ]
    }
   ],
   "source": [
    "l = list(map(int,input().split()))\n",
    "# second_value_from_l = l[1]\n",
    "sum =0\n",
    "for i in range(l[0]):\n",
    "    l1 = list(map(int,input().split()))\n",
    "    maximum = max(l1)\n",
    "    print(maximum)\n",
    "    d= maximum**2\n",
    "    sum +=d\n",
    "mod = sum%l[1]\n",
    "print(mod)\n",
    "\n"
   ]
  },
  {
   "cell_type": "code",
   "execution_count": 1,
   "metadata": {},
   "outputs": [
    {
     "data": {
      "text/plain": [
       "7"
      ]
     },
     "execution_count": 1,
     "metadata": {},
     "output_type": "execute_result"
    }
   ],
   "source": [
    "l=[1,2,3,4,5,7,3]\n",
    "max(l)"
   ]
  },
  {
   "cell_type": "code",
   "execution_count": 5,
   "metadata": {},
   "outputs": [
    {
     "data": {
      "text/plain": [
       "520"
      ]
     },
     "execution_count": 5,
     "metadata": {},
     "output_type": "execute_result"
    }
   ],
   "source": [
    "63385744%588"
   ]
  }
 ],
 "metadata": {
  "kernelspec": {
   "display_name": "base",
   "language": "python",
   "name": "python3"
  },
  "language_info": {
   "codemirror_mode": {
    "name": "ipython",
    "version": 3
   },
   "file_extension": ".py",
   "mimetype": "text/x-python",
   "name": "python",
   "nbconvert_exporter": "python",
   "pygments_lexer": "ipython3",
   "version": "3.9.12"
  },
  "orig_nbformat": 4
 },
 "nbformat": 4,
 "nbformat_minor": 2
}
