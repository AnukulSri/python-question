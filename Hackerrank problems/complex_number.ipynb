{
 "cells": [
  {
   "cell_type": "markdown",
   "metadata": {},
   "source": [
    "### Polar coordinates are an alternative way of representing Cartesian coordinates or Complex Numbers.\n",
    "    z= x + yj\n",
    "    z is completely determined by its real part x and imaginary part y.\n",
    "    Here, j is the imaginary unit."
   ]
  },
  {
   "cell_type": "markdown",
   "metadata": {},
   "source": [
    "- A polar coordinate () is completely determined by modulus  and phase angle .\n",
    "\n",
    "    If we convert complex number z to its polar coordinate, we find:\n",
    "    r - Distance from  to origin, i.e., sqrt(x^2 + y^2)\n",
    "    - Counter clockwise angle measured from the positive x-axis to the line segment that joins z to the origin.\n",
    "\n",
    "Python's cmath module provides access to the mathematical functions for complex numbers."
   ]
  },
  {
   "cell_type": "markdown",
   "metadata": {},
   "source": [
    "#### Input:\n",
    " 1+2j\n",
    "#### output:\n",
    "    2.23606797749979\n",
    "    1.1071487177940904"
   ]
  },
  {
   "cell_type": "code",
   "execution_count": 6,
   "metadata": {},
   "outputs": [
    {
     "name": "stdout",
     "output_type": "stream",
     "text": [
      "2.23606797749979\n",
      "1.1071487177940904\n"
     ]
    }
   ],
   "source": [
    "import cmath\n",
    "s = eval(input())\n",
    "p= cmath.polar(s)\n",
    "print(p[0])\n",
    "print(p[1])"
   ]
  }
 ],
 "metadata": {
  "kernelspec": {
   "display_name": "base",
   "language": "python",
   "name": "python3"
  },
  "language_info": {
   "codemirror_mode": {
    "name": "ipython",
    "version": 3
   },
   "file_extension": ".py",
   "mimetype": "text/x-python",
   "name": "python",
   "nbconvert_exporter": "python",
   "pygments_lexer": "ipython3",
   "version": "3.9.12"
  },
  "orig_nbformat": 4
 },
 "nbformat": 4,
 "nbformat_minor": 2
}
