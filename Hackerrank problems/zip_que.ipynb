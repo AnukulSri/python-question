{
 "cells": [
  {
   "cell_type": "markdown",
   "metadata": {},
   "source": [
    "# zip([iterable, ...])\n",
    "\n",
    "- This function returns a list of tuples. The i(th) tuple contains the i(th) element from each of the argument sequences or iterables.\n",
    "- If the argument sequences are of unequal lengths, then the returned list is truncated to the length of the shortest argument sequence."
   ]
  },
  {
   "cell_type": "code",
   "execution_count": 1,
   "metadata": {},
   "outputs": [
    {
     "name": "stdout",
     "output_type": "stream",
     "text": [
      "[(1, 'H'), (2, 'a'), (3, 'c'), (4, 'k'), (5, 'e'), (6, 'r')]\n"
     ]
    }
   ],
   "source": [
    "print (list(zip([1,2,3,4,5,6],'Hacker')))"
   ]
  },
  {
   "cell_type": "code",
   "execution_count": 2,
   "metadata": {},
   "outputs": [
    {
     "name": "stdout",
     "output_type": "stream",
     "text": [
      "[(1, 4, 7), (2, 5, 8), (3, 6, 9)]\n"
     ]
    }
   ],
   "source": [
    "a= [1,2,3]\n",
    "b= [4,5,6]\n",
    "c= [7,8,9]\n",
    "x = [a]+[b]+[c]\n",
    "print(list(zip(*x)))"
   ]
  },
  {
   "cell_type": "markdown",
   "metadata": {},
   "source": [
    "### Output Format\n",
    "\n",
    "    Print the averages of all students on separate lines.\n",
    "    The averages must be correct up to  decimal place."
   ]
  },
  {
   "cell_type": "markdown",
   "metadata": {},
   "source": [
    "### Input\n",
    "    5 3\n",
    "    89 90 78 93 80\n",
    "    90 91 85 88 86  \n",
    "    91 92 83 89 90.5\n",
    "### Output:\n",
    "    90.0 \n",
    "    91.0 \n",
    "    82.0 \n",
    "    90.0 \n",
    "    85.5       "
   ]
  },
  {
   "cell_type": "markdown",
   "metadata": {},
   "source": [
    "## Explanation:\n",
    "\n",
    "    Marks obtained by student 1: 89,90,91\n",
    "    Average marks of student 1: 270/3\n",
    "\n",
    "    Marks obtained by student 2: 90,91,92\n",
    "    Average marks of student 2:273/3\n",
    "\n",
    "    Marks obtained by student 3: 78,85,83\n",
    "    Average marks of student 3:246/3\n",
    "\n",
    "    Marks obtained by student 4: 93,88,89\n",
    "    Average marks of student 4:270/3\n",
    "\n",
    "    Marks obtained by student 5: 80,86,90.5\n",
    "    Average marks of student 5:256.5/3\n",
    "\n"
   ]
  },
  {
   "cell_type": "code",
   "execution_count": 4,
   "metadata": {},
   "outputs": [
    {
     "name": "stdout",
     "output_type": "stream",
     "text": [
      "[(3.0, 5.0, 5.0), (4.0, 3.0, 2.0), (5.0, 2.0, 5.0), (6.0, 1.0, 6.0), (7.0, 1.0, 3.0)]\n",
      "4.333333333333333\n",
      "3.0\n",
      "4.0\n",
      "4.333333333333333\n",
      "3.6666666666666665\n"
     ]
    }
   ],
   "source": [
    "stu= list(map(int,input().split()))\n",
    "arr =[]\n",
    "x = []\n",
    "for i in range(stu[1]): \n",
    "    l= list(map(float,input().split()))\n",
    "    arr.append(l)\n",
    "for j in range(stu[1]):\n",
    "   x = x+[arr[j]]\n",
    "z = list(zip(*x))\n",
    "print(z)\n",
    "for i in range(stu[0]):\n",
    "    print(sum(z[i])/stu[1])"
   ]
  }
 ],
 "metadata": {
  "kernelspec": {
   "display_name": "base",
   "language": "python",
   "name": "python3"
  },
  "language_info": {
   "codemirror_mode": {
    "name": "ipython",
    "version": 3
   },
   "file_extension": ".py",
   "mimetype": "text/x-python",
   "name": "python",
   "nbconvert_exporter": "python",
   "pygments_lexer": "ipython3",
   "version": "3.9.12"
  },
  "orig_nbformat": 4
 },
 "nbformat": 4,
 "nbformat_minor": 2
}
