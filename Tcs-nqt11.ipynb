{
 "cells": [
  {
   "cell_type": "code",
   "execution_count": 9,
   "metadata": {},
   "outputs": [
    {
     "name": "stdout",
     "output_type": "stream",
     "text": [
      "[3, 6, 7, 8, 9, 11, 12, 13]\n",
      "[9, 11, 12, 13, 15, 23]\n",
      "2\n"
     ]
    }
   ],
   "source": [
    "n = int(input(\"Enter number of list items\")) \n",
    "ba= int(input(\"specific size\"))\n",
    "l = list(map(int,input().split()))\n",
    "\n",
    "l.sort()\n",
    "# print(l)\n",
    "c=0\n",
    "# print(m1)\n",
    "# print(m2)\n",
    "for i in range(n):\n",
    "    # print(l)\n",
    "    m1 = min(l)\n",
    "    m2 = min(l[1:])\n",
    "\n",
    "    # print(\"m1\",m1)\n",
    "    # print(\"m2\",m2)\n",
    "\n",
    "    if m1<ba and m2<ba:\n",
    "        b = (1*m1) + (2*m2)\n",
    "        l.append(b)\n",
    "        l.remove(m1)\n",
    "        l.remove(m2)\n",
    "        c+=1\n",
    "# print(l)\n",
    "print(c)\n"
   ]
  }
 ],
 "metadata": {
  "kernelspec": {
   "display_name": "base",
   "language": "python",
   "name": "python3"
  },
  "language_info": {
   "codemirror_mode": {
    "name": "ipython",
    "version": 3
   },
   "file_extension": ".py",
   "mimetype": "text/x-python",
   "name": "python",
   "nbconvert_exporter": "python",
   "pygments_lexer": "ipython3",
   "version": "3.9.12"
  },
  "orig_nbformat": 4
 },
 "nbformat": 4,
 "nbformat_minor": 2
}
