{
 "cells": [
  {
   "cell_type": "markdown",
   "metadata": {},
   "source": [
    "Given a maximum of four digit to the base 17 (10 – A, 11 – B, 12 – C, 13 – D …\n",
    "16 – G) as input, output its decimal value.\n",
    "\n",
    "## Case 1\n",
    "    - Input – 1A\n",
    "    - Expected Output – 27\n",
    "## Case 2\n",
    "    - Input – 23GF\n",
    "    - Expected Output – 10980"
   ]
  },
  {
   "cell_type": "markdown",
   "metadata": {},
   "source": [
    "The int() function converts the specified value into an integer number.\n",
    "We are using the same int() method to convert the given input.\n",
    "int() accepts two arguments, number and base.\n",
    "Base is optional and the default value is 10.\n",
    "In the following program we are converting to base 17"
   ]
  },
  {
   "cell_type": "code",
   "execution_count": 10,
   "metadata": {},
   "outputs": [
    {
     "name": "stdout",
     "output_type": "stream",
     "text": [
      "32\n"
     ]
    }
   ],
   "source": [
    "n = input()\n",
    "print(int(n,17))"
   ]
  }
 ],
 "metadata": {
  "kernelspec": {
   "display_name": "base",
   "language": "python",
   "name": "python3"
  },
  "language_info": {
   "codemirror_mode": {
    "name": "ipython",
    "version": 3
   },
   "file_extension": ".py",
   "mimetype": "text/x-python",
   "name": "python",
   "nbconvert_exporter": "python",
   "pygments_lexer": "ipython3",
   "version": "3.9.12"
  },
  "orig_nbformat": 4
 },
 "nbformat": 4,
 "nbformat_minor": 2
}
