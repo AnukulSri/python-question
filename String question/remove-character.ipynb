{
 "cells": [
  {
   "cell_type": "markdown",
   "metadata": {},
   "source": [
    "Remove characters from the first string which are present in the second string\n",
    "\n",
    "### Input:\n",
    "    - string1 = “computer”\n",
    "    - string2 = “cat”\n",
    "### Output: \n",
    "    “ompuer”\n",
    "\n",
    "###Explanation: After removing characters(c, a, t)\n",
    "from string1 we get “ompuer”."
   ]
  },
  {
   "cell_type": "code",
   "execution_count": 9,
   "metadata": {},
   "outputs": [
    {
     "name": "stdout",
     "output_type": "stream",
     "text": [
      "ompuer\n"
     ]
    }
   ],
   "source": [
    "st = input(\"Enter a string\")\n",
    "st2 = input(\"Enter string or charater to remove from string\")\n",
    "\n",
    "for i in st2:\n",
    "    if i in st:\n",
    "        st = st.replace(i,'*')\n",
    "print(st.replace('*',''))"
   ]
  }
 ],
 "metadata": {
  "kernelspec": {
   "display_name": "base",
   "language": "python",
   "name": "python3"
  },
  "language_info": {
   "codemirror_mode": {
    "name": "ipython",
    "version": 3
   },
   "file_extension": ".py",
   "mimetype": "text/x-python",
   "name": "python",
   "nbconvert_exporter": "python",
   "pygments_lexer": "ipython3",
   "version": "3.9.12"
  },
  "orig_nbformat": 4
 },
 "nbformat": 4,
 "nbformat_minor": 2
}
