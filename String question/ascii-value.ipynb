{
 "cells": [
  {
   "cell_type": "markdown",
   "metadata": {},
   "source": [
    "Program to print ASCII Value of a character\n",
    "\n",
    "Input : a \n",
    "    \n",
    "    Output : 97\n",
    "\n",
    "Input : D\n",
    "        \n",
    "    Output : 68"
   ]
  },
  {
   "cell_type": "code",
   "execution_count": 9,
   "metadata": {},
   "outputs": [
    {
     "name": "stdout",
     "output_type": "stream",
     "text": [
      "Ascii value of character - is 45\n"
     ]
    }
   ],
   "source": [
    "st = input()\n",
    "a = ord(st)\n",
    "print(f\"Ascii value of character {st} is\",a)"
   ]
  }
 ],
 "metadata": {
  "kernelspec": {
   "display_name": "base",
   "language": "python",
   "name": "python3"
  },
  "language_info": {
   "codemirror_mode": {
    "name": "ipython",
    "version": 3
   },
   "file_extension": ".py",
   "mimetype": "text/x-python",
   "name": "python",
   "nbconvert_exporter": "python",
   "pygments_lexer": "ipython3",
   "version": "3.9.12"
  },
  "orig_nbformat": 4
 },
 "nbformat": 4,
 "nbformat_minor": 2
}
