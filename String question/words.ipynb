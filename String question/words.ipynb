{
 "cells": [
  {
   "cell_type": "markdown",
   "metadata": {},
   "source": [
    "The program will recieve 3 English words inputs\n",
    "1. These three words will be read one at a time, in three separate line\n",
    "2. The first word should be changed like all vowels should be replaced by %\n",
    "3. The second word should be changed like all consonants should be replaced\n",
    "by #\n",
    "4. The third word should be changed like all char should be converted to upper\n",
    "case\n",
    "5. Then concatenate the three words and print them\n",
    "\n",
    "    * For example if you print how are you then output should be h%wa#eYOU.\n",
    "   * You can assume that input of each word will not exceed more than 5 chars"
   ]
  },
  {
   "cell_type": "code",
   "execution_count": null,
   "metadata": {},
   "outputs": [],
   "source": []
  }
 ],
 "metadata": {
  "language_info": {
   "name": "python"
  },
  "orig_nbformat": 4
 },
 "nbformat": 4,
 "nbformat_minor": 2
}
