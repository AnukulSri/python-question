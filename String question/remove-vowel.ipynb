{
 "cells": [
  {
   "cell_type": "markdown",
   "metadata": {},
   "source": [
    "Program to remove vowels from a String\n",
    "\n",
    "Input : what is your name ?\n",
    "\n",
    "Output : wht s yr nm ?"
   ]
  },
  {
   "cell_type": "code",
   "execution_count": 21,
   "metadata": {},
   "outputs": [
    {
     "name": "stdout",
     "output_type": "stream",
     "text": [
      "Lvng Pythn LL\n"
     ]
    }
   ],
   "source": [
    "st = input()\n",
    "v = ['a','e','i','o','u']\n",
    "ch = st.lower()\n",
    "# print(len(st))\n",
    "for i in range(0,len(st)):\n",
    "    # print(i)\n",
    "    if ch[i] in v:\n",
    "        st = st.replace(st[i],\"*\")\n",
    "\n",
    "print(st.replace('*',''))\n"
   ]
  }
 ],
 "metadata": {
  "kernelspec": {
   "display_name": "base",
   "language": "python",
   "name": "python3"
  },
  "language_info": {
   "codemirror_mode": {
    "name": "ipython",
    "version": 3
   },
   "file_extension": ".py",
   "mimetype": "text/x-python",
   "name": "python",
   "nbconvert_exporter": "python",
   "pygments_lexer": "ipython3",
   "version": "3.9.12"
  },
  "orig_nbformat": 4
 },
 "nbformat": 4,
 "nbformat_minor": 2
}
