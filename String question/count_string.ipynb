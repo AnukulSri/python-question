{
 "cells": [
  {
   "cell_type": "markdown",
   "metadata": {},
   "source": [
    "Program to count vowels, consonant, digits and special characters in string.\n",
    "\n",
    "\n",
    "- Input : \n",
    "\n",
    "        str = \"geeks for geeks121\"\n",
    "\n",
    "- Output : \n",
    "\n",
    "         Vowels: 5\n",
    "         Consonant: 8\n",
    "         Digit: 3\n",
    "         Special Character: 2"
   ]
  },
  {
   "cell_type": "code",
   "execution_count": 5,
   "metadata": {},
   "outputs": [
    {
     "name": "stdout",
     "output_type": "stream",
     "text": [
      "Vowel 5\n",
      "Consonant 8\n",
      "digit 3\n",
      "special character 2\n"
     ]
    }
   ],
   "source": [
    "st = input()\n",
    "vo =0\n",
    "c =0\n",
    "d=0\n",
    "sp = 0\n",
    "for i  in  range(len(st)):\n",
    "        ch = st[i] \n",
    "  \n",
    "        if ( (ch >= 'a' and ch <= 'z') or \n",
    "             (ch >= 'A' and ch <= 'Z') ): \n",
    "  \n",
    "            # To handle upper case letters\n",
    "            ch = ch.lower()\n",
    "  \n",
    "            if (ch == 'a' or ch == 'e' or ch == 'i' \n",
    "                        or ch == 'o' or ch == 'u'):\n",
    "                vo += 1\n",
    "            else:\n",
    "                c += 1\n",
    "          \n",
    "        elif (ch >= '0' and ch <= '9'):\n",
    "            d += 1\n",
    "        else:\n",
    "            sp += 1\n",
    "\n",
    "print('Vowel',vo)\n",
    "print('Consonant',c)\n",
    "print('digit',d)\n",
    "print('special character',sp)\n",
    "# print(len(st))\n"
   ]
  },
  {
   "cell_type": "code",
   "execution_count": 12,
   "metadata": {},
   "outputs": [
    {
     "name": "stdout",
     "output_type": "stream",
     "text": [
      " A1 B@ d  adc\n"
     ]
    }
   ],
   "source": [
    "print(' A1 B@ d  adc')"
   ]
  }
 ],
 "metadata": {
  "kernelspec": {
   "display_name": "base",
   "language": "python",
   "name": "python3"
  },
  "language_info": {
   "codemirror_mode": {
    "name": "ipython",
    "version": 3
   },
   "file_extension": ".py",
   "mimetype": "text/x-python",
   "name": "python",
   "nbconvert_exporter": "python",
   "pygments_lexer": "ipython3",
   "version": "3.9.12"
  },
  "orig_nbformat": 4
 },
 "nbformat": 4,
 "nbformat_minor": 2
}
