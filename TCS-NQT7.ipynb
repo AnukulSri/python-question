{
 "cells": [
  {
   "cell_type": "markdown",
   "metadata": {},
   "source": [
    "- Given an array Arr[] of size T, contains binary digits.\n",
    "  -   Where\n",
    "   -  0 represents a biker running to the north.\n",
    "    - 1 represents a biker running to the south.\n",
    "- The task is to count crossing bikers in such a way that each pair of crossing bikers (N, S), where 0<=N<S<T,\n",
    "is passing when N is running to the north and S is running to the south.\n"
   ]
  },
  {
   "cell_type": "markdown",
   "metadata": {},
   "source": [
    "## Example -1:\n",
    "### Input:\n",
    "5. -> Number of elements i.e. T\n",
    "  -  0 -> Value of 1st element\n",
    "  -  1 -> Value of 2nd element\n",
    "  -  0 -> Value of 3rd element\n",
    "  -  1 -> Value of 4th element\n",
    "  -  1 -> Value of 5th element\n",
    "\n",
    "### Output:\n",
    "5"
   ]
  },
  {
   "cell_type": "code",
   "execution_count": 4,
   "metadata": {},
   "outputs": [
    {
     "name": "stdout",
     "output_type": "stream",
     "text": [
      "[0, 1, 1, 0, 1, 1]\n",
      "6\n"
     ]
    }
   ],
   "source": [
    "n = int(input(\"Enter a number\"))\n",
    "l=[]\n",
    "c = 0\n",
    "for i in range(n):\n",
    "    l.append(int(input(\"Enter a number\")))\n",
    "# print(l)\n",
    "for i in range(n):\n",
    "    for j in range(i+1,n):\n",
    "        if(l[i]==0 and l[j]==1):\n",
    "            c +=1\n",
    "print(c)\n"
   ]
  }
 ],
 "metadata": {
  "kernelspec": {
   "display_name": "base",
   "language": "python",
   "name": "python3"
  },
  "language_info": {
   "codemirror_mode": {
    "name": "ipython",
    "version": 3
   },
   "file_extension": ".py",
   "mimetype": "text/x-python",
   "name": "python",
   "nbconvert_exporter": "python",
   "pygments_lexer": "ipython3",
   "version": "3.9.12"
  },
  "orig_nbformat": 4
 },
 "nbformat": 4,
 "nbformat_minor": 2
}
