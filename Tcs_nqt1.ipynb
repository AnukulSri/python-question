{
 "cells": [
  {
   "cell_type": "markdown",
   "metadata": {},
   "source": [
    "- A carpet manufacturing industry has newly ventured into the carpet installation business. All the carpets\n",
    "manufactured are large squares in shape. To install, each carpet has to be cut into shapes of squares or\n",
    "rectangles. The number of slits to be made is given as N.\n",
    "- The task is to find the maximum number of equal squares or rectangles that can be achieved using N slits.\n",
    "### Note:\n",
    "- The square carpet can be cut only using horizontal or vertical slits.\n",
    "- Cuttings are done on a single carpet which should be rolled out completely i.e. no folding or stacking is\n",
    "allowed.\n",
    "- Squares or rectangles cut should be equal size. \n"
   ]
  },
  {
   "cell_type": "markdown",
   "metadata": {},
   "source": [
    "## Example 1:\n",
    "### Input:\n",
    "- 4 → Value of N(No. of cuts)\n",
    "### Output:\n",
    "- 9 → maximum number of equal squares or rectangles"
   ]
  },
  {
   "cell_type": "code",
   "execution_count": 1,
   "metadata": {},
   "outputs": [
    {
     "data": {
      "text/plain": [
       "9"
      ]
     },
     "execution_count": 1,
     "metadata": {},
     "output_type": "execute_result"
    }
   ],
   "source": [
    "def max_piece(n):\n",
    "    x = n/2\n",
    "    return int((x+1)*(n-x+1))\n",
    "\n",
    "n = int(input(\"Enter a number\"))\n",
    "max_piece(n)"
   ]
  }
 ],
 "metadata": {
  "kernelspec": {
   "display_name": "base",
   "language": "python",
   "name": "python3"
  },
  "language_info": {
   "codemirror_mode": {
    "name": "ipython",
    "version": 3
   },
   "file_extension": ".py",
   "mimetype": "text/x-python",
   "name": "python",
   "nbconvert_exporter": "python",
   "pygments_lexer": "ipython3",
   "version": "3.9.12"
  },
  "orig_nbformat": 4
 },
 "nbformat": 4,
 "nbformat_minor": 2
}
