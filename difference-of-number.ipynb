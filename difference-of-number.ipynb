{
 "cells": [
  {
   "cell_type": "markdown",
   "metadata": {},
   "source": [
    "Given a maximum of 100 digit numbers as input, find the difference between\n",
    "the sum of odd and even position digits.\n",
    "\n",
    "### Case 1\n",
    "- Input: 4567\n",
    "- Expected Output: 2"
   ]
  },
  {
   "cell_type": "markdown",
   "metadata": {},
   "source": [
    "### Case 2\n",
    "- Input: 5476\n",
    "- Expected Output: 2\n",
    "### Case 3\n",
    "- Input: 9834698765123\n",
    "- Expected Output: 1"
   ]
  },
  {
   "cell_type": "code",
   "execution_count": 1,
   "metadata": {},
   "outputs": [
    {
     "name": "stdout",
     "output_type": "stream",
     "text": [
      "2\n"
     ]
    }
   ],
   "source": [
    "n = (input(\"Enter two or more digit number\"))\n",
    "e = 0\n",
    "o = 0\n",
    "if len(n) < 2:\n",
    "    print(\"Please enter two or above digit number\")\n",
    "\n",
    "else:\n",
    "    l = list(n)\n",
    "    # print(l)\n",
    "    for i in range(len(l)):\n",
    "        if i%2 == 0 :\n",
    "            o += int(l[i])\n",
    "        else:\n",
    "            e += int(l[i])\n",
    "a=[]\n",
    "a.append(o)\n",
    "a.append(e)\n",
    "print(max(a)-min(a))"
   ]
  }
 ],
 "metadata": {
  "kernelspec": {
   "display_name": "base",
   "language": "python",
   "name": "python3"
  },
  "language_info": {
   "codemirror_mode": {
    "name": "ipython",
    "version": 3
   },
   "file_extension": ".py",
   "mimetype": "text/x-python",
   "name": "python",
   "nbconvert_exporter": "python",
   "pygments_lexer": "ipython3",
   "version": "3.9.12"
  },
  "orig_nbformat": 4
 },
 "nbformat": 4,
 "nbformat_minor": 2
}
