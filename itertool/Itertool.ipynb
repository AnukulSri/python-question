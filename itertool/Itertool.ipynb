{
 "cells": [
  {
   "cell_type": "markdown",
   "metadata": {},
   "source": [
    "#### Input\n",
    "    4 \n",
    "    a a c d\n",
    "    2\n",
    "#### Output\n",
    "    0.8333\n",
    "\n",
    "### Explanation:\n",
    "\n",
    "All possible unordered tuples of length 2 comprising of indices from 1 to 4 are:\n",
    "(1,2)(1,3)(1,4)(2,3)(2,4)(3,4)\n",
    "\n",
    "Out of these 6 combinations, 5 of them contain either index  or index  which are the indices that contain the letter 'a'.\n",
    "\n",
    "Hence, the answer is 5/6."
   ]
  },
  {
   "cell_type": "code",
   "execution_count": 28,
   "metadata": {},
   "outputs": [
    {
     "name": "stdout",
     "output_type": "stream",
     "text": [
      "5\n",
      "[(1, 2), (1, 3), (1, 4), (2, 3), (2, 4), (3, 4)]\n",
      "0.8333333333333334\n"
     ]
    }
   ],
   "source": [
    "from itertools import combinations\n",
    "\n",
    "a = int(input(\"Enter range\"))\n",
    "s = input()\n",
    "com = int(input())\n",
    "l=list(range(1,a+1))\n",
    "li = list(combinations(l, com))\n",
    "c=0\n",
    "d=0\n",
    "for i in li:\n",
    "    d+=1\n",
    "    if 1 in i or 2 in i:\n",
    "        c +=1\n",
    "print(c)        \n",
    "print (li)\n",
    "print(c/d)"
   ]
  },
  {
   "cell_type": "code",
   "execution_count": 2,
   "metadata": {},
   "outputs": [
    {
     "name": "stdout",
     "output_type": "stream",
     "text": [
      "a a c d\n"
     ]
    }
   ],
   "source": [
    "a=input()\n",
    "print(a)"
   ]
  },
  {
   "cell_type": "code",
   "execution_count": 20,
   "metadata": {},
   "outputs": [
    {
     "name": "stdout",
     "output_type": "stream",
     "text": [
      "[1, 2, 3, 4]\n"
     ]
    }
   ],
   "source": [
    "e = list(range(1,5))\n",
    "print(e)"
   ]
  },
  {
   "cell_type": "code",
   "execution_count": 51,
   "metadata": {},
   "outputs": [
    {
     "name": "stdout",
     "output_type": "stream",
     "text": [
      "85\n",
      "[(1, 2, 3), (1, 2, 4), (1, 2, 5), (1, 2, 6), (1, 2, 7), (1, 2, 8), (1, 2, 9), (1, 2, 10), (1, 3, 4), (1, 3, 5), (1, 3, 6), (1, 3, 7), (1, 3, 8), (1, 3, 9), (1, 3, 10), (1, 4, 5), (1, 4, 6), (1, 4, 7), (1, 4, 8), (1, 4, 9), (1, 4, 10), (1, 5, 6), (1, 5, 7), (1, 5, 8), (1, 5, 9), (1, 5, 10), (1, 6, 7), (1, 6, 8), (1, 6, 9), (1, 6, 10), (1, 7, 8), (1, 7, 9), (1, 7, 10), (1, 8, 9), (1, 8, 10), (1, 9, 10), (2, 3, 4), (2, 3, 5), (2, 3, 6), (2, 3, 7), (2, 3, 8), (2, 3, 9), (2, 3, 10), (2, 4, 5), (2, 4, 6), (2, 4, 7), (2, 4, 8), (2, 4, 9), (2, 4, 10), (2, 5, 6), (2, 5, 7), (2, 5, 8), (2, 5, 9), (2, 5, 10), (2, 6, 7), (2, 6, 8), (2, 6, 9), (2, 6, 10), (2, 7, 8), (2, 7, 9), (2, 7, 10), (2, 8, 9), (2, 8, 10), (2, 9, 10), (3, 4, 5), (3, 4, 6), (3, 4, 7), (3, 4, 8), (3, 4, 9), (3, 4, 10), (3, 5, 6), (3, 5, 7), (3, 5, 8), (3, 5, 9), (3, 5, 10), (3, 6, 7), (3, 6, 8), (3, 6, 9), (3, 6, 10), (3, 7, 8), (3, 7, 9), (3, 7, 10), (3, 8, 9), (3, 8, 10), (3, 9, 10), (4, 5, 6), (4, 5, 7), (4, 5, 8), (4, 5, 9), (4, 5, 10), (4, 6, 7), (4, 6, 8), (4, 6, 9), (4, 6, 10), (4, 7, 8), (4, 7, 9), (4, 7, 10), (4, 8, 9), (4, 8, 10), (4, 9, 10), (5, 6, 7), (5, 6, 8), (5, 6, 9), (5, 6, 10), (5, 7, 8), (5, 7, 9), (5, 7, 10), (5, 8, 9), (5, 8, 10), (5, 9, 10), (6, 7, 8), (6, 7, 9), (6, 7, 10), (6, 8, 9), (6, 8, 10), (6, 9, 10), (7, 8, 9), (7, 8, 10), (7, 9, 10), (8, 9, 10)]\n",
      "0.7083333333333334\n"
     ]
    }
   ],
   "source": [
    "from itertools import combinations\n",
    "\n",
    "a = int(input(\"Enter range\"))\n",
    "s = input()\n",
    "com = int(input())\n",
    "l=list(range(1,a+1))\n",
    "li = list(combinations(l, com))\n",
    "c=0\n",
    "d=0\n",
    "for i in li:\n",
    "    d+=1\n",
    "    for j in range(1,4):\n",
    "        if j in i:\n",
    "          c +=1\n",
    "          break\n",
    "print(c)        \n",
    "print (li)\n",
    "print(c/d)"
   ]
  },
  {
   "cell_type": "code",
   "execution_count": 54,
   "metadata": {},
   "outputs": [
    {
     "name": "stdout",
     "output_type": "stream",
     "text": [
      "1\n"
     ]
    }
   ],
   "source": [
    "from collections import Counter\n",
    "s= 'b'\n",
    "l= list(s)\n",
    "u=list(Counter(l).items())\n",
    "print(u[0][1])"
   ]
  },
  {
   "cell_type": "code",
   "execution_count": 56,
   "metadata": {},
   "outputs": [
    {
     "name": "stdout",
     "output_type": "stream",
     "text": [
      "1\n",
      "[(1, 2, 3, 4, 5, 6, 7, 8, 9, 10)]\n",
      "1.0\n"
     ]
    }
   ],
   "source": [
    "from itertools import combinations\n",
    "from collections import Counter\n",
    "a = int(input(\"Enter range\"))\n",
    "s = input()\n",
    "com = int(input())\n",
    "l=list(range(1,a+1))\n",
    "li = list(combinations(l, com))\n",
    "c=0\n",
    "d=0\n",
    "e= list(s)\n",
    "u=list(Counter(e).items())\n",
    "u1=u[0][1]\n",
    "for i in li:\n",
    "    d+=1\n",
    "    for j in range(1,u1+1):\n",
    "        if j in i:\n",
    "          c +=1\n",
    "          break\n",
    "print(c)        \n",
    "print (li)\n",
    "print(c/d)"
   ]
  },
  {
   "cell_type": "code",
   "execution_count": 61,
   "metadata": {},
   "outputs": [
    {
     "name": "stdout",
     "output_type": "stream",
     "text": [
      "[('a', 'a'), ('a', 'c'), ('a', 'd'), ('a', 'c'), ('a', 'd'), ('c', 'd')]\n",
      "[0, 1, 2, 3, 4]\n",
      "0.8333333333333334\n"
     ]
    }
   ],
   "source": [
    "import itertools\n",
    "n=int(input())\n",
    "n1=input().split()\n",
    "k=int(input())\n",
    "l=list(itertools.combinations(n1,k))\n",
    "print(l)\n",
    "l1 = [i for i in range(len(l)) if 'a' in str(l[i])]\n",
    "print(l1)\n",
    "print(len(l1)/len(l))"
   ]
  }
 ],
 "metadata": {
  "kernelspec": {
   "display_name": "base",
   "language": "python",
   "name": "python3"
  },
  "language_info": {
   "codemirror_mode": {
    "name": "ipython",
    "version": 3
   },
   "file_extension": ".py",
   "mimetype": "text/x-python",
   "name": "python",
   "nbconvert_exporter": "python",
   "pygments_lexer": "ipython3",
   "version": "3.9.12"
  },
  "orig_nbformat": 4
 },
 "nbformat": 4,
 "nbformat_minor": 2
}
