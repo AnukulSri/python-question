{
 "cells": [
  {
   "cell_type": "markdown",
   "metadata": {},
   "source": [
    "#### Input:\n",
    "    1222311\n",
    "#### Output:\n",
    "    (1, 1) (3, 2) (1, 3) (2, 1)\n",
    "### Explanation:\n",
    "First, the character 1 occurs only once. It is replaced by (1,1). Then the character 2 occurs three times, and it is replaced by (3,2) and so on."
   ]
  },
  {
   "cell_type": "code",
   "execution_count": 16,
   "metadata": {},
   "outputs": [
    {
     "name": "stdout",
     "output_type": "stream",
     "text": [
      "(1, 1) (1, 2) (1, 3) (2, 4) (1, 2) (1, 1) "
     ]
    }
   ],
   "source": [
    "n = input()\n",
    "i=0\n",
    "while i<len(n):\n",
    "    c=1\n",
    "    for j in range(i+1,len(n)):\n",
    "        if n[i] == n[j]:\n",
    "            c +=1\n",
    "        else:\n",
    "            break\n",
    "    print(f'({c}, {n[i]})',end=' ')\n",
    "    i+=c\n",
    "\n"
   ]
  },
  {
   "cell_type": "code",
   "execution_count": 15,
   "metadata": {},
   "outputs": [
    {
     "name": "stdout",
     "output_type": "stream",
     "text": [
      "(1, 1) (3, 2) (1, 3) (2, 1) "
     ]
    }
   ],
   "source": [
    "from itertools import groupby\n",
    "a=input()\n",
    "x=groupby(a)\n",
    "for k,g in x:\n",
    "    s = len(list(g)),int(k)\n",
    "    x=tuple(s)\n",
    "    print(x,end=' ')"
   ]
  }
 ],
 "metadata": {
  "kernelspec": {
   "display_name": "base",
   "language": "python",
   "name": "python3"
  },
  "language_info": {
   "codemirror_mode": {
    "name": "ipython",
    "version": 3
   },
   "file_extension": ".py",
   "mimetype": "text/x-python",
   "name": "python",
   "nbconvert_exporter": "python",
   "pygments_lexer": "ipython3",
   "version": "3.9.12"
  },
  "orig_nbformat": 4
 },
 "nbformat": 4,
 "nbformat_minor": 2
}
