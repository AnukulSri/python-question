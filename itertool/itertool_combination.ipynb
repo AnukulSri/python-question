{
 "cells": [
  {
   "cell_type": "code",
   "execution_count": 20,
   "metadata": {},
   "outputs": [
    {
     "name": "stdout",
     "output_type": "stream",
     "text": [
      "A\n",
      "C\n",
      "H\n",
      "K\n",
      "AC\n",
      "AK\n",
      "CK\n",
      "HA\n",
      "HC\n",
      "HK\n"
     ]
    }
   ],
   "source": [
    "from itertools import combinations\n",
    "l = input().split()\n",
    "n= int(l[1])\n",
    "for i in range(1,n+1):\n",
    " s= sorted(list(combinations(l[0],i)))\n",
    "#  print(s)\n",
    " for i in s:\n",
    "  print(\"\".join(i))"
   ]
  },
  {
   "cell_type": "code",
   "execution_count": 14,
   "metadata": {},
   "outputs": [
    {
     "name": "stdout",
     "output_type": "stream",
     "text": [
      "H\n"
     ]
    }
   ],
   "source": [
    "print(s[0][0])"
   ]
  },
  {
   "cell_type": "code",
   "execution_count": 21,
   "metadata": {},
   "outputs": [
    {
     "name": "stdout",
     "output_type": "stream",
     "text": [
      "A\n",
      "C\n",
      "E\n",
      "H\n",
      "K\n",
      "R\n",
      "AC\n",
      "AE\n",
      "AH\n",
      "AK\n",
      "AR\n",
      "CE\n",
      "CH\n",
      "CK\n",
      "CR\n",
      "EH\n",
      "EK\n",
      "ER\n",
      "HK\n",
      "HR\n",
      "KR\n",
      "ACE\n",
      "ACH\n",
      "ACK\n",
      "ACR\n",
      "AEH\n",
      "AEK\n",
      "AER\n",
      "AHK\n",
      "AHR\n",
      "AKR\n",
      "CEH\n",
      "CEK\n",
      "CER\n",
      "CHK\n",
      "CHR\n",
      "CKR\n",
      "EHK\n",
      "EHR\n",
      "EKR\n",
      "HKR\n",
      "ACEH\n",
      "ACEK\n",
      "ACER\n",
      "ACHK\n",
      "ACHR\n",
      "ACKR\n",
      "AEHK\n",
      "AEHR\n",
      "AEKR\n",
      "AHKR\n",
      "CEHK\n",
      "CEHR\n",
      "CEKR\n",
      "CHKR\n",
      "EHKR\n"
     ]
    }
   ],
   "source": [
    "from itertools import combinations\n",
    "\n",
    "\n",
    "if __name__ == '__main__':\n",
    "    s, k = input().split()\n",
    "    k = int(k)\n",
    "    \n",
    "    s = sorted(s) \n",
    "    \n",
    "    for i in range(1, k + 1):\n",
    "        for c in combinations(s, i):\n",
    "            print(\"\".join(c))"
   ]
  }
 ],
 "metadata": {
  "kernelspec": {
   "display_name": "base",
   "language": "python",
   "name": "python3"
  },
  "language_info": {
   "codemirror_mode": {
    "name": "ipython",
    "version": 3
   },
   "file_extension": ".py",
   "mimetype": "text/x-python",
   "name": "python",
   "nbconvert_exporter": "python",
   "pygments_lexer": "ipython3",
   "version": "3.9.12"
  },
  "orig_nbformat": 4
 },
 "nbformat": 4,
 "nbformat_minor": 2
}
