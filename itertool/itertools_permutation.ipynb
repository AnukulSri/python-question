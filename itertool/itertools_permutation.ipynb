{
 "cells": [
  {
   "cell_type": "code",
   "execution_count": 17,
   "metadata": {},
   "outputs": [
    {
     "name": "stdout",
     "output_type": "stream",
     "text": [
      "ABC\n",
      "ABD\n",
      "ACB\n",
      "ACD\n",
      "ADB\n",
      "ADC\n",
      "BAC\n",
      "BAD\n",
      "BCA\n",
      "BCD\n",
      "BDA\n",
      "BDC\n",
      "CAB\n",
      "CAD\n",
      "CBA\n",
      "CBD\n",
      "CDA\n",
      "CDB\n",
      "DAB\n",
      "DAC\n",
      "DBA\n",
      "DBC\n",
      "DCA\n",
      "DCB\n"
     ]
    }
   ],
   "source": [
    "from itertools import permutations\n",
    "l = input().split()\n",
    "n=int(l[1])\n",
    "c = sorted(list(permutations(l[0],n)))\n",
    "for i in c:\n",
    "      s=''\n",
    "      \n",
    "      for j in range(n):\n",
    "       s += i[j]\n",
    "      print(s)\n"
   ]
  }
 ],
 "metadata": {
  "kernelspec": {
   "display_name": "base",
   "language": "python",
   "name": "python3"
  },
  "language_info": {
   "codemirror_mode": {
    "name": "ipython",
    "version": 3
   },
   "file_extension": ".py",
   "mimetype": "text/x-python",
   "name": "python",
   "nbconvert_exporter": "python",
   "pygments_lexer": "ipython3",
   "version": "3.9.12"
  },
  "orig_nbformat": 4
 },
 "nbformat": 4,
 "nbformat_minor": 2
}
