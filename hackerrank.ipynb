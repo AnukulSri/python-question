{
 "cells": [
  {
   "cell_type": "markdown",
   "metadata": {},
   "source": [
    "# Task\n",
    "\n",
    "Raghu is a shoe shop owner. His shop has X number of shoes.\n",
    "He has a list containing the size of each shoe he has in his shop.\n",
    "There are N number of customers who are willing to pay x amount of money only if they get the shoe of their desired size.\n",
    "\n",
    "Your task is to compute how much money Raghu earned."
   ]
  },
  {
   "cell_type": "markdown",
   "metadata": {},
   "source": [
    "## Input Format\n",
    "\n",
    "- The first line contains X, the number of shoes.\n",
    "- The second line contains the space separated list of all the shoe sizes in the shop.\n",
    "- The third line contains N, the number of customers.\n",
    "- The next N lines contain the space separated values of the shoe disered desired by the customer and x, the price of the shoe."
   ]
  },
  {
   "cell_type": "markdown",
   "metadata": {},
   "source": [
    "### Example:\n",
    "\n",
    "    10\n",
    "    2 3 4 5 6 8 7 6 5 18\n",
    "    6\n",
    "    6 55\n",
    "    6 45\n",
    "    6 55\n",
    "    4 40\n",
    "    18 60\n",
    "    10 50\n"
   ]
  },
  {
   "cell_type": "code",
   "execution_count": 6,
   "metadata": {},
   "outputs": [
    {
     "name": "stdout",
     "output_type": "stream",
     "text": [
      "200\n"
     ]
    }
   ],
   "source": [
    "n=int(input(\"Enter number of shoes\"))\n",
    "l = list(map(int,input().split()))\n",
    "cust = int(input(\"Enter number of customer\"))\n",
    "c=0\n",
    "# x = list(map(int,input().split))\n",
    "\n",
    "for i in range(cust):\n",
    "    x = list(map(int,input().split()))\n",
    "    if x[0] in l:\n",
    "        c += x[1]\n",
    "        l.remove(x[0])\n",
    "print(c)\n",
    "\n",
    "    "
   ]
  },
  {
   "cell_type": "code",
   "execution_count": 55,
   "metadata": {},
   "outputs": [
    {
     "name": "stdout",
     "output_type": "stream",
     "text": [
      "Counter({2: 4, 3: 4, 1: 3, 4: 2, 5: 1})\n"
     ]
    }
   ],
   "source": [
    "from collections import Counter\n",
    "\n",
    "myList = [1,1,2,3,4,5,3,2,3,4,2,1,2,3]\n",
    "print (Counter(myList))"
   ]
  },
  {
   "cell_type": "code",
   "execution_count": 56,
   "metadata": {},
   "outputs": [
    {
     "name": "stdout",
     "output_type": "stream",
     "text": [
      "dict_items([(1, 3), (2, 4), (3, 4), (4, 2), (5, 1)])\n"
     ]
    }
   ],
   "source": [
    "print(Counter(myList).items())"
   ]
  }
 ],
 "metadata": {
  "kernelspec": {
   "display_name": "base",
   "language": "python",
   "name": "python3"
  },
  "language_info": {
   "codemirror_mode": {
    "name": "ipython",
    "version": 3
   },
   "file_extension": ".py",
   "mimetype": "text/x-python",
   "name": "python",
   "nbconvert_exporter": "python",
   "pygments_lexer": "ipython3",
   "version": "3.9.12"
  },
  "orig_nbformat": 4
 },
 "nbformat": 4,
 "nbformat_minor": 2
}
