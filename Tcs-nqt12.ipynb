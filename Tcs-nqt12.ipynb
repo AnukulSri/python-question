{
 "cells": [
  {
   "cell_type": "markdown",
   "metadata": {},
   "source": [
    "An automobile company manufactures both a two wheeler (TW) and a four wheeler (FW). A company manager wants to make the production of both types of vehicle according to the given data below:\n",
    "\n",
    "- 1st data, Total number of vehicle (two-wheeler + four-wheeler)=v\n",
    "- 2nd data, Total number of wheels = W\n",
    "- The task is to find how many two-wheelers as well as four-wheelers need to manufacture as per the given data."
   ]
  },
  {
   "cell_type": "markdown",
   "metadata": {},
   "source": [
    "# Example :\n",
    "\n",
    "### Input :\n",
    "    200  -> Value of V\n",
    "    540   -> Value of W\n",
    "\n",
    "### Output :\n",
    "    TW =130 FW=70\n",
    "\n",
    "### Explanation:\n",
    "    130+70 = 200 vehicles\n",
    "    (70*4)+(130*2)= 540 wheels"
   ]
  },
  {
   "cell_type": "code",
   "execution_count": 17,
   "metadata": {},
   "outputs": [
    {
     "name": "stdout",
     "output_type": "stream",
     "text": [
      "TW=120 FW=80\n"
     ]
    }
   ],
   "source": [
    "v = int(input(\"Enter number of vehicle\"))\n",
    "w = int(input(\"Enter number of wheels\"))\n",
    "if (w&1)==1 or w<2 or w<=v:\n",
    "    print(\"INVALID INPUT\")\n",
    "else:\n",
    "    f = ((4*v)-w)//2\n",
    "    print(\"TW={0} FW={1}\".format(f,v-f))"
   ]
  },
  {
   "cell_type": "code",
   "execution_count": 12,
   "metadata": {},
   "outputs": [
    {
     "data": {
      "text/plain": [
       "800"
      ]
     },
     "execution_count": 12,
     "metadata": {},
     "output_type": "execute_result"
    }
   ],
   "source": [
    "4*200"
   ]
  },
  {
   "cell_type": "code",
   "execution_count": 13,
   "metadata": {},
   "outputs": [
    {
     "data": {
      "text/plain": [
       "260"
      ]
     },
     "execution_count": 13,
     "metadata": {},
     "output_type": "execute_result"
    }
   ],
   "source": [
    "800-540"
   ]
  },
  {
   "cell_type": "code",
   "execution_count": 14,
   "metadata": {},
   "outputs": [
    {
     "data": {
      "text/plain": [
       "130"
      ]
     },
     "execution_count": 14,
     "metadata": {},
     "output_type": "execute_result"
    }
   ],
   "source": [
    "260//2"
   ]
  }
 ],
 "metadata": {
  "kernelspec": {
   "display_name": "base",
   "language": "python",
   "name": "python3"
  },
  "language_info": {
   "codemirror_mode": {
    "name": "ipython",
    "version": 3
   },
   "file_extension": ".py",
   "mimetype": "text/x-python",
   "name": "python",
   "nbconvert_exporter": "python",
   "pygments_lexer": "ipython3",
   "version": "3.9.12"
  },
  "orig_nbformat": 4
 },
 "nbformat": 4,
 "nbformat_minor": 2
}
