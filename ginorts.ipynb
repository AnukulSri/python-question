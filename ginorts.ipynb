{
 "cells": [
  {
   "cell_type": "markdown",
   "metadata": {},
   "source": [
    "## Your task is to sort the string  in the following manner:\n",
    "\n",
    "- All sorted lowercase letters are ahead of uppercase letters.\n",
    "- All sorted uppercase letters are ahead of digits.\n",
    "- All sorted odd digits are ahead of sorted even digits.\n",
    "\n",
    "    * Input:\n",
    "        Sorting1234\n",
    "    * Output: \n",
    "        ginortS1324"
   ]
  },
  {
   "cell_type": "code",
   "execution_count": 40,
   "metadata": {},
   "outputs": [
    {
     "name": "stdout",
     "output_type": "stream",
     "text": [
      "defghjqrtwyABCDEFGHIJKLMNOPQRSTUVWXYZ1113335557779990222444666888\n"
     ]
    }
   ],
   "source": [
    "s =input()\n",
    "l = ''\n",
    "u=''\n",
    "o =''\n",
    "e=''\n",
    "for i in range(len(s)):\n",
    "    if s[i].islower():\n",
    "        l= l+s[i]\n",
    "    elif s[i].isupper():\n",
    "        u = u+s[i]\n",
    "    else:\n",
    "        if (int(s[i]) % 2 == 0):\n",
    "            e += s[i]\n",
    "            # print(s[i])\n",
    "        else:\n",
    "            o += s[i]\n",
    "o=''.join(sorted(o))        \n",
    "e=''.join(sorted(e))        \n",
    "d = o+e\n",
    "l = ''.join(sorted(l))\n",
    "u = ''.join(sorted(u))\n",
    "str1 = l+u+d\n",
    "print(str1)"
   ]
  }
 ],
 "metadata": {
  "kernelspec": {
   "display_name": "base",
   "language": "python",
   "name": "python3"
  },
  "language_info": {
   "codemirror_mode": {
    "name": "ipython",
    "version": 3
   },
   "file_extension": ".py",
   "mimetype": "text/x-python",
   "name": "python",
   "nbconvert_exporter": "python",
   "pygments_lexer": "ipython3",
   "version": "3.9.12"
  },
  "orig_nbformat": 4
 },
 "nbformat": 4,
 "nbformat_minor": 2
}
