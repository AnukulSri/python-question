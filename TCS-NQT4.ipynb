{
 "cells": [
  {
   "cell_type": "markdown",
   "metadata": {},
   "source": [
    "- An event management company has come up with a unique idea of printing their event tickets. Based\n",
    "on the ticket number combination (str1), the visitor is directed towards a particular class of audience. The\n",
    "task is to create a program/application to fetch the ticket number based on the following conditions:\n",
    "Any occurrences of digits EF, 56 and G, & should be deleted\n",
    "- The characters EF should be in the same format.\n"
   ]
  },
  {
   "cell_type": "markdown",
   "metadata": {},
   "source": [
    "## Example 1:\n",
    "\n",
    "### Input:\n",
    " - 4523EF58G -> Value of STR1\n",
    "### Output:\n",
    " - 452358 -> After removal of characters ‘EF’ and ‘G’\n",
    "\n",
    "\n",
    "## Example 2:\n",
    "\n",
    "### Input:\n",
    " - E12F35G58 -> Value of STR1\n",
    "\n",
    "### Output:\n",
    " - E12F3558 -> After removal of character ‘G’\n"
   ]
  },
  {
   "cell_type": "code",
   "execution_count": 11,
   "metadata": {},
   "outputs": [
    {
     "name": "stdout",
     "output_type": "stream",
     "text": [
      "E12F3558\n"
     ]
    }
   ],
   "source": [
    "str = input(\"Enter a string\")\n",
    "l = ['EF','56','G']\n",
    "\n",
    "for i in l:\n",
    "  if (i in str):\n",
    "    str = str.replace(i,'')\n",
    "\n",
    "print(str)"
   ]
  }
 ],
 "metadata": {
  "kernelspec": {
   "display_name": "base",
   "language": "python",
   "name": "python3"
  },
  "language_info": {
   "codemirror_mode": {
    "name": "ipython",
    "version": 3
   },
   "file_extension": ".py",
   "mimetype": "text/x-python",
   "name": "python",
   "nbconvert_exporter": "python",
   "pygments_lexer": "ipython3",
   "version": "3.9.12"
  },
  "orig_nbformat": 4
 },
 "nbformat": 4,
 "nbformat_minor": 2
}
