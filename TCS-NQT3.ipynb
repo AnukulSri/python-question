{
 "cells": [
  {
   "cell_type": "markdown",
   "metadata": {},
   "source": [
    "* A supermarket maintains a pricing format for all its products. A value N printed on each product. When\n",
    "the scanner reads the value N on the item, the product of all the digits in the value N is the price of the item.\n",
    "The task is to design a software such that given the code of any item N the product(multiplication) of all the\n",
    "digits of value should be computed(price).\n",
    "\n",
    "### Example\n",
    "\n",
    "- 5244 -->Value of N\n",
    "\n",
    "### Output\n",
    "\n",
    "- 160 -->Price\n",
    "\n",
    "## Explanation:\n",
    "\n",
    "- From the input above:\n",
    "   - Product of the digits: 5,1,4,4\n",
    "   - 5x2x4x4 = 160\n",
    "- Hence Output is 160\n"
   ]
  },
  {
   "cell_type": "code",
   "execution_count": 2,
   "metadata": {},
   "outputs": [
    {
     "name": "stdout",
     "output_type": "stream",
     "text": [
      "120\n"
     ]
    }
   ],
   "source": [
    "n = int(input(\"Enter a barcode number\"))\n",
    "a=n\n",
    "s=1\n",
    "while a>0:\n",
    "    t = a%10\n",
    "    s= s*t\n",
    "    a = a//10\n",
    "\n",
    "print(s)"
   ]
  }
 ],
 "metadata": {
  "kernelspec": {
   "display_name": "base",
   "language": "python",
   "name": "python3"
  },
  "language_info": {
   "codemirror_mode": {
    "name": "ipython",
    "version": 3
   },
   "file_extension": ".py",
   "mimetype": "text/x-python",
   "name": "python",
   "nbconvert_exporter": "python",
   "pygments_lexer": "ipython3",
   "version": "3.9.12"
  },
  "orig_nbformat": 4
 },
 "nbformat": 4,
 "nbformat_minor": 2
}
