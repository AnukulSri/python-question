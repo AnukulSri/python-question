{
 "cells": [
  {
   "cell_type": "markdown",
   "metadata": {},
   "source": [
    "Given an array of integers and a sum, the task is to count all subsets of given array with sum equal to given sum. \n",
    "\n",
    "#### Input :  \n",
    "The first line of input contains an integer T denoting the number of test cases. Then T test cases follow. Each test case contains an integer n denoting the size of the array. The next line contains n space separated integers forming the array. The last line contains the sum. \n",
    "\n",
    "#### Output : \n",
    "Count all the subsets of given array with sum equal to given sum. "
   ]
  },
  {
   "cell_type": "markdown",
   "metadata": {},
   "source": [
    "### Input : \n",
    "    2 [total test case]\n",
    "\n",
    "    6  [1 test case array range]\n",
    "    2 3 5 6 8 10 [1 test case array] \n",
    "    10 [1st test case target element(sum)]\n",
    "\n",
    "    5 [2 test case array range]\n",
    "    1 2 3 4 5 [2 test case array] \n",
    "    10 [2nd test case target element(sum)]\n",
    "\n",
    "### Output : \n",
    "    3  [1st test case number of subset]\n",
    "    3 [2nd test case number of subset]\n",
    "\n",
    "## Explanation : \n",
    "\n",
    "- Testcase 1: possible subsets : (2,3,5) , (2,8) and (10) \n",
    "- Testcase 2: possible subsets : (1,2,3,4) , (2,3,5) and (1,4,5)"
   ]
  },
  {
   "cell_type": "code",
   "execution_count": 11,
   "metadata": {},
   "outputs": [
    {
     "name": "stdout",
     "output_type": "stream",
     "text": [
      "2\n"
     ]
    }
   ],
   "source": [
    "def count_subsets_with_sum(arr, target_sum):\n",
    "    n = len(arr)\n",
    "    dp = [[0 for _ in range(target_sum + 1)] for _ in range(n + 1)]\n",
    "\n",
    "    for i in range(n + 1):\n",
    "        dp[i][0] = 1\n",
    "\n",
    "    for i in range(1, n + 1):\n",
    "        for j in range(1, target_sum + 1):\n",
    "            if arr[i - 1] > j:\n",
    "                dp[i][j] = dp[i - 1][j]\n",
    "            else:\n",
    "                dp[i][j] = dp[i - 1][j] + dp[i - 1][j - arr[i - 1]]\n",
    "\n",
    "    return dp[n][target_sum]\n",
    "\n",
    "arr = [2, 4, 6, 10]\n",
    "target_sum = 16\n",
    "print(count_subsets_with_sum(arr,target_sum))"
   ]
  },
  {
   "cell_type": "code",
   "execution_count": 9,
   "metadata": {},
   "outputs": [
    {
     "ename": "TypeError",
     "evalue": "unhashable type: 'list'",
     "output_type": "error",
     "traceback": [
      "\u001b[1;31m---------------------------------------------------------------------------\u001b[0m",
      "\u001b[1;31mTypeError\u001b[0m                                 Traceback (most recent call last)",
      "\u001b[1;32mc:\\Users\\anuku\\OneDrive\\Desktop\\python question\\Tcs-nqt9.ipynb Cell 3\u001b[0m in \u001b[0;36m1\n\u001b[0;32m      <a href='vscode-notebook-cell:/c%3A/Users/anuku/OneDrive/Desktop/python%20question/Tcs-nqt9.ipynb#W0sZmlsZQ%3D%3D?line=8'>9</a>\u001b[0m l2 \u001b[39m=\u001b[39m \u001b[39mlist\u001b[39m(\u001b[39mmap\u001b[39m(\u001b[39mint\u001b[39m,\u001b[39minput\u001b[39m()\u001b[39m.\u001b[39msplit()))\n\u001b[0;32m     <a href='vscode-notebook-cell:/c%3A/Users/anuku/OneDrive/Desktop/python%20question/Tcs-nqt9.ipynb#W0sZmlsZQ%3D%3D?line=9'>10</a>\u001b[0m s2 \u001b[39m=\u001b[39m \u001b[39mint\u001b[39m(\u001b[39minput\u001b[39m(\u001b[39m\"\u001b[39m\u001b[39mEnter a number of which you want a subset\u001b[39m\u001b[39m\"\u001b[39m))\n\u001b[1;32m---> <a href='vscode-notebook-cell:/c%3A/Users/anuku/OneDrive/Desktop/python%20question/Tcs-nqt9.ipynb#W0sZmlsZQ%3D%3D?line=12'>13</a>\u001b[0m r2 \u001b[39m=\u001b[39m random\u001b[39m.\u001b[39;49mRandom(l1)\n\u001b[0;32m     <a href='vscode-notebook-cell:/c%3A/Users/anuku/OneDrive/Desktop/python%20question/Tcs-nqt9.ipynb#W0sZmlsZQ%3D%3D?line=13'>14</a>\u001b[0m \u001b[39mprint\u001b[39m(r2)\n",
      "\u001b[1;31mTypeError\u001b[0m: unhashable type: 'list'"
     ]
    }
   ],
   "source": [
    "test = int(input(\"enter Number of test case\"))\n",
    "\n",
    "r1 = int(input(\"Enter the range of array of 1 test case\"))\n",
    "l1 = list(map(int,input().split()))\n",
    "s1= int(input(\"Enter a number of which you want subset\"))\n",
    "\n",
    "r2 = int(input(\"Enter the range of array of 2 test case\"))\n",
    "l2 = list(map(int,input().split()))\n",
    "s2 = int(input(\"Enter a number of which you want a subset\"))\n",
    "\n",
    "\n"
   ]
  }
 ],
 "metadata": {
  "kernelspec": {
   "display_name": "base",
   "language": "python",
   "name": "python3"
  },
  "language_info": {
   "codemirror_mode": {
    "name": "ipython",
    "version": 3
   },
   "file_extension": ".py",
   "mimetype": "text/x-python",
   "name": "python",
   "nbconvert_exporter": "python",
   "pygments_lexer": "ipython3",
   "version": "3.9.12"
  },
  "orig_nbformat": 4
 },
 "nbformat": 4,
 "nbformat_minor": 2
}
