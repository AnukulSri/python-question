{
 "cells": [
  {
   "cell_type": "markdown",
   "metadata": {},
   "source": [
    "# Program for Binary To Decimal Conversion"
   ]
  },
  {
   "cell_type": "markdown",
   "metadata": {},
   "source": [
    "- Input : 111\n",
    "  - Output : 7\n",
    "\n",
    "- Input : 1010\n",
    "  - Output : 10"
   ]
  },
  {
   "cell_type": "code",
   "execution_count": 9,
   "metadata": {},
   "outputs": [
    {
     "name": "stdout",
     "output_type": "stream",
     "text": [
      "10\n"
     ]
    }
   ],
   "source": [
    "def deci(n):\n",
    "    i=0\n",
    "    s=0\n",
    "    while n>0:\n",
    "        mod = n%10\n",
    "        s += mod*2**i\n",
    "        i +=1\n",
    "        n =n//10\n",
    "    return s\n",
    "if __name__ == '__main__':\n",
    "    n=int(input(\"Enter a number\"))\n",
    "    r = deci(n)\n",
    "    print(r)\n",
    "\n"
   ]
  }
 ],
 "metadata": {
  "kernelspec": {
   "display_name": "base",
   "language": "python",
   "name": "python3"
  },
  "language_info": {
   "codemirror_mode": {
    "name": "ipython",
    "version": 3
   },
   "file_extension": ".py",
   "mimetype": "text/x-python",
   "name": "python",
   "nbconvert_exporter": "python",
   "pygments_lexer": "ipython3",
   "version": "3.9.12"
  },
  "orig_nbformat": 4
 },
 "nbformat": 4,
 "nbformat_minor": 2
}
