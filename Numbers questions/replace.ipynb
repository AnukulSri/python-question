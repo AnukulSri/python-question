{
 "cells": [
  {
   "cell_type": "markdown",
   "metadata": {},
   "source": [
    "Replace all ‘0’ with ‘5’ in an input Integer\n",
    "\n",
    "Input: 102 \n",
    "\n",
    "Output: 152\n",
    "\n",
    "Explanation: All the digits which are '0' is replaced by '5' "
   ]
  },
  {
   "cell_type": "code",
   "execution_count": 1,
   "metadata": {},
   "outputs": [
    {
     "name": "stdout",
     "output_type": "stream",
     "text": [
      "13425\n"
     ]
    }
   ],
   "source": [
    "n = int(input(\"Enter a number\"))\n",
    "rev = 0\n",
    "a = n\n",
    "while a>0:\n",
    "    mod = a%10\n",
    "    if mod == 0:\n",
    "        mod = 5\n",
    "    rev = (rev*10) + mod\n",
    "    a = a//10\n",
    "\n",
    "rev2 =0\n",
    "while rev>0:\n",
    "    mod = rev%10\n",
    "    if mod == 0:\n",
    "        mod = 5\n",
    "    rev2 = (rev2*10) + mod\n",
    "    rev = rev//10\n",
    "\n",
    "print(rev2)"
   ]
  }
 ],
 "metadata": {
  "kernelspec": {
   "display_name": "base",
   "language": "python",
   "name": "python3"
  },
  "language_info": {
   "codemirror_mode": {
    "name": "ipython",
    "version": 3
   },
   "file_extension": ".py",
   "mimetype": "text/x-python",
   "name": "python",
   "nbconvert_exporter": "python",
   "pygments_lexer": "ipython3",
   "version": "3.9.12"
  },
  "orig_nbformat": 4
 },
 "nbformat": 4,
 "nbformat_minor": 2
}
