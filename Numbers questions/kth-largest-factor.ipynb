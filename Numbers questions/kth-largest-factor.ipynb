{
 "cells": [
  {
   "cell_type": "markdown",
   "metadata": {},
   "source": [
    "# Kth largest factor of number N"
   ]
  },
  {
   "cell_type": "markdown",
   "metadata": {},
   "source": [
    "#### Input: \n",
    "* N = 12, \n",
    "* K = 3\n",
    "#### Output: \n",
    "* 4\n",
    "### Explanation: \n",
    "* The factors of 12 are {1, 2, 3, 4, 6, 12}. The largest factor is 12 and the 3rd largest factor is 4.\n",
    "\n",
    "#### Input:\n",
    "* N = 30, \n",
    "* K = 2\n",
    "#### Output: \n",
    "* 15\n",
    "### Explanation: \n",
    "* The factors of 30 are {1, 2, 3, 5, 6, 10, 15, 30} and the 2nd largest factor is 15."
   ]
  },
  {
   "cell_type": "code",
   "execution_count": 1,
   "metadata": {},
   "outputs": [
    {
     "name": "stdout",
     "output_type": "stream",
     "text": [
      "[313, 1]\n",
      "The value of K is larger than the number of factor of number\n"
     ]
    }
   ],
   "source": [
    "n = int(input(\"Enter a numeber\"))\n",
    "k = int(input(\"Enter kth term\"))\n",
    "l=[]\n",
    "for i in range(1,n+1):\n",
    "    if n%i==0:\n",
    "        l.append(i)\n",
    "l = sorted(l,reverse=True)\n",
    "print(l)\n",
    "try:\n",
    "  print(f'The {k} largest factor of {n} is: {l[k-1]}')\n",
    "except:\n",
    "   print(\"The value of K is larger than the number of factor of number\")"
   ]
  }
 ],
 "metadata": {
  "kernelspec": {
   "display_name": "base",
   "language": "python",
   "name": "python3"
  },
  "language_info": {
   "codemirror_mode": {
    "name": "ipython",
    "version": 3
   },
   "file_extension": ".py",
   "mimetype": "text/x-python",
   "name": "python",
   "nbconvert_exporter": "python",
   "pygments_lexer": "ipython3",
   "version": "3.9.12"
  },
  "orig_nbformat": 4
 },
 "nbformat": 4,
 "nbformat_minor": 2
}
