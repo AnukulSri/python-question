{
 "cells": [
  {
   "cell_type": "markdown",
   "metadata": {},
   "source": [
    "program to find factorial of given number\n",
    "\n",
    "Input  : n = 5\n",
    "\n",
    "Output : 120"
   ]
  },
  {
   "cell_type": "code",
   "execution_count": null,
   "metadata": {},
   "outputs": [],
   "source": [
    "def fact(n):\n",
    "    if n==0:\n",
    "        return 1\n",
    "    return n* fact(n-1)\n",
    "n = int(input(\"Enter a number\"))\n",
    "print(fact(n))\n"
   ]
  }
 ],
 "metadata": {
  "language_info": {
   "name": "python"
  },
  "orig_nbformat": 4
 },
 "nbformat": 4,
 "nbformat_minor": 2
}
