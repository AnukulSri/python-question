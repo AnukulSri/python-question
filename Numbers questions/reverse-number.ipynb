{
 "cells": [
  {
   "cell_type": "markdown",
   "metadata": {},
   "source": [
    "program to reverse digits of a number\n",
    "\n",
    "Input : num = 12345\n",
    "\n",
    "Output: 54321\n",
    "\n",
    "\n",
    "\n",
    "Input : num = 876\n",
    "\n",
    "Output: 678"
   ]
  },
  {
   "cell_type": "code",
   "execution_count": 1,
   "metadata": {},
   "outputs": [
    {
     "name": "stdout",
     "output_type": "stream",
     "text": [
      "orginal number is 132123\n",
      "reversed number is 321231\n"
     ]
    }
   ],
   "source": [
    "n = int(input(\"Enter a number\"))\n",
    "rev = 0\n",
    "a =n\n",
    "while a>0:\n",
    "    mod = a%10\n",
    "    rev = (rev*10) +mod\n",
    "    a =a//10\n",
    "print(f'orginal number is {n}')\n",
    "print(f'reversed number is {rev}')"
   ]
  }
 ],
 "metadata": {
  "kernelspec": {
   "display_name": "base",
   "language": "python",
   "name": "python3"
  },
  "language_info": {
   "codemirror_mode": {
    "name": "ipython",
    "version": 3
   },
   "file_extension": ".py",
   "mimetype": "text/x-python",
   "name": "python",
   "nbconvert_exporter": "python",
   "pygments_lexer": "ipython3",
   "version": "3.9.12"
  },
  "orig_nbformat": 4
 },
 "nbformat": 4,
 "nbformat_minor": 2
}
