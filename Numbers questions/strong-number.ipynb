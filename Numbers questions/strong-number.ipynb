{
 "cells": [
  {
   "cell_type": "markdown",
   "metadata": {},
   "source": [
    "Program to check Strong Number\n",
    "\n",
    "Strong Numbers are the numbers whose sum of factorial of digits is equal to the original number. Given a number, check if it is a Strong Number or not."
   ]
  },
  {
   "cell_type": "markdown",
   "metadata": {},
   "source": [
    "Input  : n = 145\n",
    "\n",
    "Output : Yes\n",
    "\n",
    "Sum of digit factorials = 1! + 4! + 5!\n",
    "                        = 1 + 24 + 120\n",
    "                        = 145\n",
    "\n",
    "Input :  n = 534\n",
    "\n",
    "Output : No"
   ]
  },
  {
   "cell_type": "code",
   "execution_count": 1,
   "metadata": {},
   "outputs": [
    {
     "name": "stdout",
     "output_type": "stream",
     "text": [
      "Number is not strong\n"
     ]
    }
   ],
   "source": [
    "n = int(input(\"Enter a number\"))\n",
    "r = 0\n",
    "a=n\n",
    "st=0\n",
    "while a>0:\n",
    "    mod = a%10\n",
    "    fact=1\n",
    "    for i in range(1,mod+1):\n",
    "        fact = fact*i\n",
    "    st = st+fact\n",
    "    a = a//10\n",
    "if st == n:\n",
    "    print(\"Number is strong number\")\n",
    "else:\n",
    "    print(\"Number is not strong\")"
   ]
  }
 ],
 "metadata": {
  "kernelspec": {
   "display_name": "base",
   "language": "python",
   "name": "python3"
  },
  "language_info": {
   "codemirror_mode": {
    "name": "ipython",
    "version": 3
   },
   "file_extension": ".py",
   "mimetype": "text/x-python",
   "name": "python",
   "nbconvert_exporter": "python",
   "pygments_lexer": "ipython3",
   "version": "3.9.12"
  },
  "orig_nbformat": 4
 },
 "nbformat": 4,
 "nbformat_minor": 2
}
