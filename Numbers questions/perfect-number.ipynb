{
 "cells": [
  {
   "cell_type": "markdown",
   "metadata": {},
   "source": [
    "# Perfect Number\n",
    "* A number is a perfect number if is equal to sum of its proper divisors, that is, sum of its positive divisors excluding the number itself. Write a function to check if a given number is perfect or not. "
   ]
  },
  {
   "cell_type": "markdown",
   "metadata": {},
   "source": [
    "#### Input: \n",
    "* n = 15\n",
    "#### Output: \n",
    "* false\n",
    "### Exp \n",
    "- Divisors of 15 are 1, 3 and 5. Sum of \n",
    "divisors is 9 which is not equal to 15.\n",
    "\n",
    "#### Input: \n",
    "* n = 6\n",
    "#### Output: \n",
    "* true\n",
    "### Exp- \n",
    "- Divisors of 6 are 1, 2 and 3. Sum of \n",
    "divisors is 6."
   ]
  },
  {
   "cell_type": "code",
   "execution_count": 1,
   "metadata": {},
   "outputs": [
    {
     "name": "stdout",
     "output_type": "stream",
     "text": [
      "False\n"
     ]
    }
   ],
   "source": [
    "def perfect(n):\n",
    "    a=0\n",
    "    for i in range(1,n):\n",
    "        if n%i ==0 :\n",
    "            a += i\n",
    "    if a == n:\n",
    "        return True\n",
    "    else:\n",
    "        return False\n",
    "    \n",
    "if __name__ == '__main__':\n",
    "    n = int(input(\"Enter a number\"))\n",
    "    print(perfect(n))"
   ]
  }
 ],
 "metadata": {
  "kernelspec": {
   "display_name": "base",
   "language": "python",
   "name": "python3"
  },
  "language_info": {
   "codemirror_mode": {
    "name": "ipython",
    "version": 3
   },
   "file_extension": ".py",
   "mimetype": "text/x-python",
   "name": "python",
   "nbconvert_exporter": "python",
   "pygments_lexer": "ipython3",
   "version": "3.9.12"
  },
  "orig_nbformat": 4
 },
 "nbformat": 4,
 "nbformat_minor": 2
}
