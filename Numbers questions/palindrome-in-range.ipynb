{
 "cells": [
  {
   "cell_type": "markdown",
   "metadata": {},
   "source": [
    "# Program to print all palindromes in a given range"
   ]
  },
  {
   "cell_type": "markdown",
   "metadata": {},
   "source": [
    "- Given a range of numbers, print all palindromes in the given range. \n",
    "- For example if the given range is {10, 115}, then output should be {11, 22, 33, 44, 55, 66, 77, 88, 99, 101, 111}\n",
    "- We can run a loop from min to max and check every number for palindrome. If the number is a palindrome, we can simply print it. "
   ]
  },
  {
   "cell_type": "code",
   "execution_count": 8,
   "metadata": {},
   "outputs": [
    {
     "name": "stdout",
     "output_type": "stream",
     "text": [
      "[11, 22, 33, 44, 55, 66, 77, 88, 99, 101, 111]\n"
     ]
    }
   ],
   "source": [
    "def palin_range(a,b):\n",
    "    l=[]\n",
    "    for i in range(a,b):\n",
    "        rev=0\n",
    "        a =i\n",
    "        while a>0:\n",
    "            mod = a%10\n",
    "            rev = (rev*10)+mod\n",
    "            a =a//10\n",
    "        if rev == i:\n",
    "            l.append(rev)\n",
    "    return l\n",
    "if __name__ == '__main__':\n",
    "    a = int(input(\"Enter starting range\"))\n",
    "    b = int(input(\"Enter end range\"))\n",
    "    print(palin_range(a,b))\n",
    "\n"
   ]
  }
 ],
 "metadata": {
  "kernelspec": {
   "display_name": "base",
   "language": "python",
   "name": "python3"
  },
  "language_info": {
   "codemirror_mode": {
    "name": "ipython",
    "version": 3
   },
   "file_extension": ".py",
   "mimetype": "text/x-python",
   "name": "python",
   "nbconvert_exporter": "python",
   "pygments_lexer": "ipython3",
   "version": "3.9.12"
  },
  "orig_nbformat": 4
 },
 "nbformat": 4,
 "nbformat_minor": 2
}
